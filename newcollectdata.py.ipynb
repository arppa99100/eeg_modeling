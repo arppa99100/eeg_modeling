{
 "cells": [
  {
   "cell_type": "code",
   "execution_count": 1,
   "metadata": {
    "collapsed": true
   },
   "outputs": [],
   "source": [
    "import os;\n",
    "import sys;\n",
    "import numpy as np;\n",
    "from readbytes import _read8, _read32, _read_chunks"
   ]
  },
  {
   "cell_type": "code",
   "execution_count": 2,
   "metadata": {
    "collapsed": true
   },
   "outputs": [],
   "source": [
    "samplespath = \"./samples\"\n",
    "curatedpath = \"./curated\"\n",
    "\n",
    "dt_i8 = np.dtype(\"<u1\")\n",
    "dt_i32 = np.dtype(\"<u4\")\n",
    "dt_f32 = np.dtype(\"<f4\")\n",
    "\n",
    "input_count = 0\n",
    "num_samples = 0\n",
    "num_channels = 8\n",
    "max_samples = 470\n",
    "max_presamples = 120"
   ]
  },
  {
   "cell_type": "code",
   "execution_count": 3,
   "metadata": {
    "collapsed": false
   },
   "outputs": [],
   "source": [
    "samples_folders = sorted(os.listdir(samplespath))\n",
    "    \n",
    "temp_presample_output = open(curatedpath+\"/raw-presamples-nometa\", \"wb\")\n",
    "temp_sample_output = open(curatedpath+\"/raw-samples-nometa\", \"wb\")    \n",
    "temp_input_output = open(curatedpath+\"/raw-inputs-nometa\", \"wb\")\n",
    "\n",
    "for samplefolder in samples_folders:\n",
    "    path = samplespath+\"/\"+samplefolder\n",
    "    sample_list = sorted(os.listdir(samplespath+\"/\"+samplefolder))\n",
    "    \n",
    "    #Get Status\n",
    "    \n",
    "    #Get Inputs\n",
    "    with open(path+\"/input\", \"rb\") as bytestream:\n",
    "        num_inputs = _read8(bytestream)\n",
    "        buf = bytestream.read(num_inputs * dt_i8.itemsize)\n",
    "        temp_input_output.write(buf)\n",
    "    input_count += num_inputs\n",
    "    \n",
    "    #Get Samples\n",
    "    allsamples = sorted(os.listdir(path+\"/sample\"))\n",
    "    for sample in allsamples:\n",
    "        num_samples += 1\n",
    "        with open(path+\"/sample/\"+sample, \"rb\") as bytestream:\n",
    "            #Check magic is 2049\n",
    "            magic = _read32(bytestream)\n",
    "            cols = _read32(bytestream)\n",
    "            rows = _read32(bytestream)\n",
    "            buf = bytestream.read(\n",
    "                max_samples * cols * dt_f32.itemsize) #homogeneous size\n",
    "            temp_sample_output.write(buf)\n",
    "        with open(path+\"/presample/\"+sample, \"rb\") as bytestream:\n",
    "            #Check magic is 2049\n",
    "            magic = _read32(bytestream)\n",
    "            cols = _read32(bytestream)\n",
    "            rows = _read32(bytestream)\n",
    "            buf = bytestream.read(\n",
    "                max_presamples * cols * dt_f32.itemsize) #homogeneous size\n",
    "            temp_presample_output.write(buf)\n",
    "    \n",
    "temp_presample_output.close()\n",
    "temp_sample_output.close()\n",
    "temp_input_output.close()"
   ]
  },
  {
   "cell_type": "code",
   "execution_count": 4,
   "metadata": {
    "collapsed": false
   },
   "outputs": [],
   "source": [
    "metadata = [2049, num_channels, max_samples, num_samples]\n",
    "with open(curatedpath+\"/raw-samples-nometa\", \"rb\") as readstream, open(curatedpath+\"/raw-samples\", \"wb\") as writestream:\n",
    "        writestream.write(np.array(metadata, dtype=dt_i32))\n",
    "        for chunk in _read_chunks(readstream):\n",
    "            writestream.write(chunk)\n",
    "os.remove(curatedpath+\"/raw-samples-nometa\")\n",
    "\n",
    "metadata = [2049, num_channels, max_presamples, num_samples]\n",
    "with open(curatedpath+\"/raw-presamples-nometa\", \"rb\") as readstream, open(curatedpath+\"/raw-presamples\", \"wb\") as writestream:\n",
    "        writestream.write(np.array(metadata, dtype=dt_i32))\n",
    "        for chunk in _read_chunks(readstream):\n",
    "            writestream.write(chunk)\n",
    "os.remove(curatedpath+\"/raw-presamples-nometa\")\n",
    "\n",
    "\n",
    "metadata = [2049, input_count]\n",
    "with open(curatedpath+\"/raw-inputs-nometa\", \"rb\") as readstream, open(curatedpath+\"/raw-inputs\", \"wb\") as writestream:\n",
    "        writestream.write(np.array(metadata, dtype=dt_i32))\n",
    "        writestream.write(readstream.read())\n",
    "os.remove(curatedpath+\"/raw-inputs-nometa\")"
   ]
  },
  {
   "cell_type": "code",
   "execution_count": null,
   "metadata": {
    "collapsed": true
   },
   "outputs": [],
   "source": []
  }
 ],
 "metadata": {
  "kernelspec": {
   "display_name": "Python 3",
   "language": "python",
   "name": "python3"
  },
  "language_info": {
   "codemirror_mode": {
    "name": "ipython",
    "version": 3
   },
   "file_extension": ".py",
   "mimetype": "text/x-python",
   "name": "python",
   "nbconvert_exporter": "python",
   "pygments_lexer": "ipython3",
   "version": "3.4.2"
  }
 },
 "nbformat": 4,
 "nbformat_minor": 0
}
