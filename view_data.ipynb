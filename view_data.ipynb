{
 "cells": [
  {
   "cell_type": "code",
   "execution_count": 1,
   "metadata": {
    "collapsed": false
   },
   "outputs": [],
   "source": [
    "#check librosa stft and istft\n",
    "import matplotlib\n",
    "matplotlib.use('Agg')\n",
    "%matplotlib inline\n",
    "import matplotlib.pyplot as plt\n",
    "\n",
    "import numpy as np\n",
    "\n",
    "from dataio import readdata, readdata2, readlabels, writedata\n",
    "from datafilters import apply_dc_filter, apply_dwt_filter, apply_stfft_filter"
   ]
  },
  {
   "cell_type": "code",
   "execution_count": 2,
   "metadata": {
    "collapsed": true
   },
   "outputs": [],
   "source": [
    "#Hyperparams\n",
    "\n",
    "#DC Filter\n",
    "enable_dc = True\n",
    "dc_lowcut = 3.0\n",
    "dc_highcut = 30.0\n",
    "dc_order = 2\n",
    "dc_type = \"bandpass\"\n",
    "dc_func_type = \"butter\"\n",
    "\n",
    "#DWT Filter\n",
    "enable_dwt = True\n",
    "dwt_type = \"db2\"\n",
    "dwt_level = 4\n",
    "dwt_thresh_func = \"soft\"\n",
    "dwt_thresh_type = \"rigrsure\"\n",
    "\n",
    "#STFT Filter\n",
    "enable_fft = True\n",
    "fft_window = 0.50\n",
    "fft_step = 0.25\n",
    "fft_thresh = 8.0\n",
    "fft_set_thresh = 0.0"
   ]
  },
  {
   "cell_type": "code",
   "execution_count": 3,
   "metadata": {
    "collapsed": false
   },
   "outputs": [],
   "source": [
    "#Plots for comparison\n",
    "#plt.figure(1);\n",
    "#plt.figure(figsize=(10,12));\n",
    "\n",
    "#Raw EEG Signal\n",
    "#plt.subplot(411);\n",
    "#plt.plot(y1);\n",
    "#plt.title(\"Raw EEG\")\n",
    "\n",
    "#DC Filter\n",
    "#plt.subplot(412);\n",
    "#plt.plot(y2);\n",
    "#plt.title(\"EEG + DC Filter\");\n",
    "\n",
    "#Discrete Wavelet Transform\n",
    "#plt.subplot(413);\n",
    "#plt.plot(y3);\n",
    "#plt.title(\"EEG + DC + Discrete Wavelet Transform\");\n",
    "\n",
    "#Fast Fourier Transform\n",
    "#plt.subplot(414);\n",
    "#plt.plot(y4);\n",
    "#plt.title(\"EEG + DC + DWT + Fast Fourier Transform\");\n",
    "\n",
    "#plt.show()"
   ]
  },
  {
   "cell_type": "code",
   "execution_count": 4,
   "metadata": {
    "collapsed": false
   },
   "outputs": [],
   "source": [
    "dataset = readdata(\"sampledata\")\n",
    "#Constants\n",
    "fs = 250.0 #Frequency in Hz\n",
    "sample_time = dataset.shape[1]/fs #Total time for sample\n",
    "\n",
    "#To get alpha and beta waves\n",
    "fft_thresh = 2\n",
    "enable_fft = True\n",
    "dataset.flags['WRITEABLE'] = True\n",
    "for i in range(0,dataset.shape[0]):\n",
    "    for j in range(0,dataset.shape[2]):\n",
    "        if enable_dc:\n",
    "            dataset[i,:,j] = apply_dc_filter(dataset[i,:,j], fs, dc_lowcut, dc_highcut, dc_order, dc_type, dc_func_type)\n",
    "        if enable_dwt:\n",
    "            dataset[i,:,j] = apply_dwt_filter(dataset[i,:,j], dwt_type, dwt_level, dwt_thresh_func, dwt_thresh_type)\n",
    "        if enable_fft:\n",
    "            dataset[i,:,j] = apply_stfft_filter(dataset[i,:,j], fs, sample_time, fft_window, fft_step, fft_thresh, fft_set_thresh)\n",
    "        #Normalize\n",
    "        dataset[i,:,j] = dataset[i,:,j]/np.linalg.norm(dataset[i,:])"
   ]
  },
  {
   "cell_type": "code",
   "execution_count": 5,
   "metadata": {
    "collapsed": false
   },
   "outputs": [
    {
     "name": "stdout",
     "output_type": "stream",
     "text": [
      "Training: (105, 1130, 8) (105,)\n",
      "Validation: (21, 1130, 8) (21,)\n",
      "Testing: (26, 1130, 8) (26,)\n"
     ]
    }
   ],
   "source": [
    "test_size = 0.20\n",
    "valid_size = 0.20\n",
    "labels = readlabels(\"sampleinput\")\n",
    "\n",
    "# Test Set\n",
    "dataindex = range(0,dataset.shape[0])\n",
    "test_index = np.random.choice(dataindex, int(dataset.shape[0]*test_size))\n",
    "test_dataset = dataset[test_index,:,:]\n",
    "test_labels = labels[test_index]\n",
    "dataset = np.delete(dataset, test_index, axis = 0)\n",
    "labels = np.delete(labels, test_index, axis = 0)\n",
    "\n",
    "# Validation Set\n",
    "dataindex = range(0,dataset.shape[0])\n",
    "valid_index = np.random.choice(dataindex, int(dataset.shape[0]*valid_size))\n",
    "valid_dataset = dataset[valid_index,:,:]\n",
    "valid_labels = labels[valid_index]\n",
    "\n",
    "# Train Set\n",
    "train_dataset = dataset\n",
    "train_labels = labels\n",
    "\n",
    "print('Training:', train_dataset.shape, train_labels.shape)\n",
    "print('Validation:', valid_dataset.shape, valid_labels.shape)\n",
    "print('Testing:', test_dataset.shape, test_labels.shape)"
   ]
  },
  {
   "cell_type": "code",
   "execution_count": 6,
   "metadata": {
    "collapsed": false
   },
   "outputs": [],
   "source": [
    "#Write training\n",
    "writedata(\"./curated/train_dataset\", train_dataset)\n",
    "writedata(\"./curated/train_labels\", train_labels)\n",
    "#Write validation\n",
    "writedata(\"./curated/valid_dataset\", valid_dataset)\n",
    "writedata(\"./curated/valid_labels\", valid_labels)\n",
    "#Write test\n",
    "writedata(\"./curated/test_dataset\", test_dataset)\n",
    "writedata(\"./curated/test_labels\", test_labels)\n",
    "#plt.figure(figsize=(15,8))\n",
    "#plt.plot(dataset[0,:,0])\n",
    "#plt.show()"
   ]
  },
  {
   "cell_type": "code",
   "execution_count": 2,
   "metadata": {
    "collapsed": false
   },
   "outputs": [
    {
     "name": "stdout",
     "output_type": "stream",
     "text": [
      "Training: (105, 1130, 8) (105,)\n",
      "Validation: (21, 1130, 8) (21,)\n",
      "Testing: (26, 1130, 8) (26,)\n"
     ]
    }
   ],
   "source": [
    "#Read training\n",
    "train_dataset = readdata2(\"./curated/train_dataset\")\n",
    "train_labels = readlabels(\"./curated/train_labels\")\n",
    "#Read validation\n",
    "valid_dataset = readdata2(\"./curated/valid_dataset\")\n",
    "valid_labels = readlabels(\"./curated/valid_labels\")\n",
    "#Read test\n",
    "test_dataset = readdata2(\"./curated/test_dataset\")\n",
    "test_labels = readlabels(\"./curated/test_labels\")\n",
    "\n",
    "print('Training:', train_dataset.shape, train_labels.shape)\n",
    "print('Validation:', valid_dataset.shape, valid_labels.shape)\n",
    "print('Testing:', test_dataset.shape, test_labels.shape)"
   ]
  },
  {
   "cell_type": "code",
   "execution_count": null,
   "metadata": {
    "collapsed": true
   },
   "outputs": [],
   "source": []
  }
 ],
 "metadata": {
  "kernelspec": {
   "display_name": "Python 3",
   "language": "python",
   "name": "python3"
  },
  "language_info": {
   "codemirror_mode": {
    "name": "ipython",
    "version": 3
   },
   "file_extension": ".py",
   "mimetype": "text/x-python",
   "name": "python",
   "nbconvert_exporter": "python",
   "pygments_lexer": "ipython3",
   "version": "3.4.2"
  }
 },
 "nbformat": 4,
 "nbformat_minor": 0
}
