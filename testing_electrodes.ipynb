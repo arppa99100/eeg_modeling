{
 "cells": [
  {
   "cell_type": "code",
   "execution_count": null,
   "metadata": {
    "collapsed": false
   },
   "outputs": [
    {
     "name": "stderr",
     "output_type": "stream",
     "text": [
      "/usr/lib64/python3.4/site-packages/matplotlib/__init__.py:1320: UserWarning:  This call to matplotlib.use() has no effect\n",
      "because the backend has already been chosen;\n",
      "matplotlib.use() must be called *before* pylab, matplotlib.pyplot,\n",
      "or matplotlib.backends is imported for the first time.\n",
      "\n",
      "  warnings.warn(_use_error_msg)\n"
     ]
    }
   ],
   "source": [
    "import matplotlib\n",
    "matplotlib.use('Agg')\n",
    "%matplotlib inline\n",
    "import matplotlib.pyplot as plt"
   ]
  },
  {
   "cell_type": "code",
   "execution_count": null,
   "metadata": {
    "collapsed": false
   },
   "outputs": [],
   "source": [
    "import os\n",
    "import json\n",
    "\n",
    "import numpy as np\n",
    "from readbytes import _read8, _read32\n",
    "from datafilters import apply_dc_filter, apply_dwt_filter"
   ]
  },
  {
   "cell_type": "code",
   "execution_count": null,
   "metadata": {
    "collapsed": false
   },
   "outputs": [],
   "source": [
    "dt_f32 = np.dtype(\"<f4\")\n",
    "\n",
    "electrodes = [False, False, False, False, False, False, False, False]"
   ]
  },
  {
   "cell_type": "code",
   "execution_count": null,
   "metadata": {
    "collapsed": false
   },
   "outputs": [],
   "source": [
    "#Get data from hardware\n",
    "fileloc = \"./../lib/start_stream.py\"\n",
    "dumploc = \"../../modeling\"\n",
    "masterfolder = \"testing\"\n",
    "samplefolder = \"sample\"\n",
    "sampletime = 2 #sec\n",
    "sampleid = 0\n",
    "gatherdata = os.system(\"python3 \" + \n",
    "                       fileloc + \" \" +\n",
    "                       dumploc + \" \" +\n",
    "                       str(sampletime) + \" \" +\n",
    "                       masterfolder + \" \" +\n",
    "                       samplefolder + \" \" +\n",
    "                       str(sampleid))"
   ]
  },
  {
   "cell_type": "code",
   "execution_count": null,
   "metadata": {
    "collapsed": false
   },
   "outputs": [],
   "source": [
    "#Read data from Hardware\n",
    "testingpath = \"./\"+ masterfolder + \"/\" + samplefolder\n",
    "filename = os.listdir(testingpath)[0]\n",
    "\n",
    "max_rows = 470\n",
    "\n",
    "with open(testingpath+\"/\"+filename, \"rb\") as readstream:\n",
    "    magic = _read32(readstream)\n",
    "    cols = _read32(readstream)\n",
    "    rows = _read32(readstream)\n",
    "    buf = readstream.read(max_rows * cols * dt_f32.itemsize)\n",
    "    data = np.frombuffer(buf, dtype=dt_f32)\n",
    "    data.shape = (max_rows, cols)"
   ]
  },
  {
   "cell_type": "code",
   "execution_count": null,
   "metadata": {
    "collapsed": false
   },
   "outputs": [],
   "source": [
    "#DC Filter\n",
    "fs=250\n",
    "enable_dc = False\n",
    "dc_lowcut = 3.0\n",
    "dc_highcut = 30.0\n",
    "dc_order = 2\n",
    "dc_type = \"bandpass\"\n",
    "dc_func_type = \"butter\"\n",
    "\n",
    "#DWT Filter\n",
    "enable_dwt = False\n",
    "dwt_type = \"db2\"\n",
    "dwt_level = 4\n",
    "dwt_thresh_func = \"soft\"\n",
    "dwt_thresh_type = \"rigrsure\"\n",
    "\n",
    "data.flags['WRITEABLE'] = True\n",
    "for i in range(0,data.shape[1]):\n",
    "    if enable_dc:\n",
    "        data[:,i] = apply_dc_filter(data[:,i], fs, dc_lowcut, dc_highcut, dc_order, dc_type, dc_func_type)\n",
    "    if enable_dwt:\n",
    "        data[:,i] = apply_dwt_filter(data[:,i], dwt_type, dwt_level, dwt_thresh_func, dwt_thresh_type)"
   ]
  },
  {
   "cell_type": "code",
   "execution_count": null,
   "metadata": {
    "collapsed": false
   },
   "outputs": [
    {
     "data": {
      "text/plain": [
       "<matplotlib.figure.Figure at 0x7f8c7adbbba8>"
      ]
     },
     "metadata": {},
     "output_type": "display_data"
    },
    {
     "data": {
      "image/png": "[encoded data removed]",
      "text/plain": [
       "<matplotlib.figure.Figure at 0x7f8c7adbbbe0>"
      ]
     },
     "metadata": {},
     "output_type": "display_data"
    }
   ],
   "source": [
    "#Plots for comparison\n",
    "plt.figure(1);\n",
    "plt.figure(figsize=(10,12));\n",
    "\n",
    "#Raw EEG Signal\n",
    "plt.subplot(511);\n",
    "for i in range(0,data.shape[1]):\n",
    "    plt.plot(data[:,i], label=\"ch\"+str(i+1))\n",
    "plt.title(\"Raw EEG\")\n",
    "plt.legend()\n",
    "plt.show()\n",
    "\n",
    "#RANGE -10000 to -40000\n",
    "#IF not within range, bad signal"
   ]
  },
  {
   "cell_type": "code",
   "execution_count": null,
   "metadata": {
    "collapsed": false
   },
   "outputs": [],
   "source": [
    "min_thresh = -45000\n",
    "max_thresh = -10000\n",
    "for i in range(0,data.shape[1]):\n",
    "    if max(data[:,i]) < max_thresh and min(data[:,i]) > min_thresh:\n",
    "        electrodes[i] = True"
   ]
  },
  {
   "cell_type": "code",
   "execution_count": null,
   "metadata": {
    "collapsed": false
   },
   "outputs": [
    {
     "name": "stdout",
     "output_type": "stream",
     "text": [
      "[True, True, True, True, True, True, False, True]\n"
     ]
    }
   ],
   "source": [
    "print(electrodes)"
   ]
  },
  {
   "cell_type": "code",
   "execution_count": null,
   "metadata": {
    "collapsed": true
   },
   "outputs": [],
   "source": []
  }
 ],
 "metadata": {
  "kernelspec": {
   "display_name": "Python 3",
   "language": "python",
   "name": "python3"
  },
  "language_info": {
   "codemirror_mode": {
    "name": "ipython",
    "version": 3
   },
   "file_extension": ".py",
   "mimetype": "text/x-python",
   "name": "python",
   "nbconvert_exporter": "python",
   "pygments_lexer": "ipython3",
   "version": "3.4.2"
  }
 },
 "nbformat": 4,
 "nbformat_minor": 0
}
