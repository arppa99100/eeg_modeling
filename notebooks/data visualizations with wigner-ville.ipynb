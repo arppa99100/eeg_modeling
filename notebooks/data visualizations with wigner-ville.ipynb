{
 "cells": [
  {
   "cell_type": "code",
   "execution_count": null,
   "metadata": {
    "collapsed": false
   },
   "outputs": [],
   "source": [
    "import matplotlib\n",
    "matplotlib.use('Agg')\n",
    "%matplotlib inline\n",
    "import matplotlib.pyplot as plt"
   ]
  },
  {
   "cell_type": "code",
   "execution_count": 3,
   "metadata": {
    "collapsed": false
   },
   "outputs": [],
   "source": [
    "#check librosa stft and istft\n",
    "import os\n",
    "import sys\n",
    "import numpy as np\n",
    "import copy\n",
    "import scipy\n",
    "\n",
    "from sklearn.preprocessing import normalize\n",
    "\n",
    "sys.path.insert(0, \"/home/anonymous/Desktop/eeg_sampling/modeling\")\n",
    "from dataio import readdata2, readlabels2, writedata\n",
    "from datafilters import apply_dc_filter, apply_dwt_filter\n",
    "from wignerville import wvd, filtered_wvd"
   ]
  },
  {
   "cell_type": "code",
   "execution_count": 4,
   "metadata": {
    "collapsed": false
   },
   "outputs": [],
   "source": [
    "#predataset = readdata2(\"./../curated/raw-presamples\")\n",
    "dataset = readdata2(\"./../curated/raw-samples\")\n",
    "labels = readlabels2(\"./../curated/raw-inputs\")\n",
    "\n",
    "#Constants\n",
    "fs = 250.0 #Frequency in Hz\n",
    "sample_time = dataset[0].shape[1]/fs #Total time for sample\n",
    "num_rows = 360 \n",
    "num_channels = 8\n",
    "rto = num_rows/(fs/2)"
   ]
  },
  {
   "cell_type": "code",
   "execution_count": 5,
   "metadata": {
    "collapsed": false
   },
   "outputs": [],
   "source": [
    "#Samples\n",
    "data = []\n",
    "data_avg = []\n",
    "#sams = [0, 48, 2, 33, 19, 24, 50, 23]\n",
    "#sams = [6, 12, 32, 40, 50]\n",
    "#sams = [7,32,18,4,9]\n",
    "sams = np.arange(0,20)\n",
    "channLEFT = 3\n",
    "channRIGHT = 0\n",
    "for i in range(0, len(sams)):\n",
    "    data.append(dataset[0][sams[i],:,channLEFT])\n",
    "    data_avg.append(dataset[0][sams[i],:,channRIGHT])\n",
    "    #data_avg.append(np.mean(dataset[0],axis=2)[sams[i]])"
   ]
  },
  {
   "cell_type": "code",
   "execution_count": 6,
   "metadata": {
    "collapsed": false
   },
   "outputs": [
    {
     "name": "stdout",
     "output_type": "stream",
     "text": [
      "[2 1 0 2 1 2 1 2 2 1 1 1 0 2 1 1 1 2 0 1 0 1 0 1 2 1 2 2 2 2 0 1 2 2 1 1 0\n",
      " 1 0 2 0 2 0 1 1 2 1 2 0 1 1 0 2 2 2 0 2 2 2 0 2 1 0 2 2 0 2 1 2 0 1 0 1 2\n",
      " 0 2 0 1 2 1 1 1 2 1 1 2 0 2 0 2 1 0 1 2 1 1 2 0 0 2 0 2 2 2 2 2 0 0 1 0 0\n",
      " 1 0 0 0]\n"
     ]
    }
   ],
   "source": [
    "print(labels[0])"
   ]
  },
  {
   "cell_type": "code",
   "execution_count": null,
   "metadata": {
    "collapsed": false
   },
   "outputs": [],
   "source": [
    "data_dc = []\n",
    "data_dc_avg = []\n",
    "\n",
    "#First filter\n",
    "dc_lowcut = 1.0\n",
    "dc_highcut = 30.0\n",
    "dc_order = 2\n",
    "dc_type = \"bandpass\"\n",
    "dc_func_type = \"butter\"\n",
    "for i in range(0, len(sams)):\n",
    "    data_dc.append(apply_dc_filter(data[i], fs, dc_lowcut, dc_highcut, dc_order, dc_type, dc_func_type))\n",
    "    data_dc_avg.append(apply_dc_filter(data_avg[i], fs, dc_lowcut, dc_highcut, dc_order, dc_type, dc_func_type))\n",
    "\n",
    "#First filter\n",
    "dc_lowcut = 59.0\n",
    "dc_highcut = 61.0\n",
    "dc_order = 2\n",
    "dc_type = \"bandstop\"\n",
    "dc_func_type = \"butter\"\n",
    "for i in range(0, len(sams)):\n",
    "    data_dc[i] = apply_dc_filter(data_dc[i], fs, dc_lowcut, dc_highcut, dc_order, dc_type, dc_func_type)\n",
    "    data_dc_avg[i] = apply_dc_filter(data_dc_avg[i], fs, dc_lowcut, dc_highcut, dc_order, dc_type, dc_func_type)"
   ]
  },
  {
   "cell_type": "code",
   "execution_count": null,
   "metadata": {
    "collapsed": false
   },
   "outputs": [],
   "source": [
    "#Sample Cut in sec (before transform)\n",
    "front_cut = 0.000\n",
    "back_cut = 0.000\n",
    "cut_values = np.concatenate([np.arange(0, int(front_cut * fs)), np.arange(480 - int(back_cut * fs), 480)])\n",
    "for i in range(0, len(sams)):\n",
    "    data_dc[i] = np.delete(data_dc[i], cut_values, 0)\n",
    "    data_dc_avg[i] = np.delete(data_dc_avg[i], cut_values, 0)\n",
    "    \n",
    "total_sample_time = sample_time - front_cut - back_cut"
   ]
  },
  {
   "cell_type": "code",
   "execution_count": null,
   "metadata": {
    "collapsed": false
   },
   "outputs": [],
   "source": [
    "#Wigner-Ville Transform\n",
    "data_wv = []\n",
    "data_wv_avg = []\n",
    "for i in range(0, len(sams)):\n",
    "    data_wv.append(wvd(data_dc[i])[0])\n",
    "    data_wv_avg.append(wvd(data_dc_avg[i])[0])"
   ]
  },
  {
   "cell_type": "code",
   "execution_count": null,
   "metadata": {
    "collapsed": false
   },
   "outputs": [],
   "source": [
    "#Normalize Data\n",
    "for i in range(0, len(sams)):\n",
    "    data_wv[i] = normalize(data_wv[i], axis=1, norm='l1')\n",
    "    data_wv_avg[i] = normalize(data_wv_avg[i], axis=1, norm='l1')"
   ]
  },
  {
   "cell_type": "code",
   "execution_count": null,
   "metadata": {
    "collapsed": false
   },
   "outputs": [],
   "source": [
    "visual_cue = 0.6\n",
    "sensory_offset = 0.3\n",
    "\n",
    "freq_min = 1.0\n",
    "freq_max = 30.0\n",
    "del_values = np.concatenate([np.arange(0, int(freq_min*rto)), np.arange(int(freq_max*rto), 480)])\n",
    "\n",
    "im = []\n",
    "im_avg = []\n",
    "for i in range(0, len(sams)):\n",
    "    im.append(data_wv[i].T)\n",
    "    im[i] = np.delete(im[i], del_values, 0)\n",
    "    \n",
    "    im_avg.append(data_wv_avg[i].T)\n",
    "    im_avg[i] = np.delete(im_avg[i], del_values, 0)\n",
    "    \n",
    "#Plots for comparison\n",
    "plt.figure(1)\n",
    "plt.figure(figsize=(7,60))\n",
    "#plt.suptitle(\"Trial:Feb 19 2016 15:31:14\", fontsize = 14)\n",
    "\n",
    "extent = [0, total_sample_time, freq_min, freq_max]\n",
    "interpolation = \"lanczos\"\n",
    "for i in range(0,len(sams)):\n",
    "    #plt.subplot(5,2,2*i + 1)\n",
    "    #plt.imshow(scipy.absolute(im[i]), extent=extent, origin='lower', aspect='auto', interpolation=interpolation)\n",
    "    #plt.xticks(np.arange(0, total_sample_time, 0.2), np.arange(front_cut, sample_time - back_cut, 0.2))\n",
    "    #plt.colorbar()\n",
    "    #plt.title('Electroencephalogram Evoked Potential')\n",
    "    #plt.xlabel(\"Time (sec)\")\n",
    "    #plt.ylabel(\"Frequency (Hz)\")\n",
    "    #print(i)\n",
    "    plt.subplot(20,1,i)\n",
    "    #plt.subplot(5,2,(2*i)+1 + 1)\n",
    "    plt.imshow(scipy.absolute(im_avg[i]), extent=extent, origin='lower', aspect='auto', interpolation=interpolation)\n",
    "    plt.xticks(np.arange(0, total_sample_time, 0.2), np.arange(front_cut, sample_time - back_cut, 0.2))\n",
    "    plt.colorbar()\n",
    "    plt.title(i)\n",
    "    #plt.title('Electroencephalogram Evoked Potential')\n",
    "    #plt.xlabel(\"Time (sec)\")\n",
    "    #plt.ylabel(\"Frequency (Hz)\")\n",
    "\n",
    "#plt.axvline(visual_cue, linewidth=2, color='m', linestyle=\"--\")\n",
    "#plt.axvline(visual_cue+sensory_offset, linewidth=2, color='g', linestyle=\"--\")\n",
    "#plt.colorbar()"
   ]
  },
  {
   "cell_type": "code",
   "execution_count": 1,
   "metadata": {
    "collapsed": false
   },
   "outputs": [
    {
     "ename": "NameError",
     "evalue": "name 'labels' is not defined",
     "output_type": "error",
     "traceback": [
      "\u001b[1;31m---------------------------------------------------------------------------\u001b[0m",
      "\u001b[1;31mNameError\u001b[0m                                 Traceback (most recent call last)",
      "\u001b[1;32m<ipython-input-1-6e5e36b4bc44>\u001b[0m in \u001b[0;36m<module>\u001b[1;34m()\u001b[0m\n\u001b[1;32m----> 1\u001b[1;33m \u001b[0mprint\u001b[0m\u001b[1;33m(\u001b[0m\u001b[0mlabels\u001b[0m\u001b[1;33m[\u001b[0m\u001b[1;36m0\u001b[0m\u001b[1;33m]\u001b[0m\u001b[1;33m[\u001b[0m\u001b[0msams\u001b[0m\u001b[1;33m]\u001b[0m\u001b[1;33m)\u001b[0m\u001b[1;33m\u001b[0m\u001b[0m\n\u001b[0m",
      "\u001b[1;31mNameError\u001b[0m: name 'labels' is not defined"
     ]
    }
   ],
   "source": [
    "print(labels[0][sams])"
   ]
  },
  {
   "cell_type": "code",
   "execution_count": null,
   "metadata": {
    "collapsed": false
   },
   "outputs": [],
   "source": [
    "visual_cue = 0.6\n",
    "sensory_offset = 0.3\n",
    "\n",
    "freq_min = 0\n",
    "freq_max = 13\n",
    "del_values = np.concatenate([np.arange(0, int(freq_min*rto)), np.arange(int(freq_max*rto), 480)])\n",
    "\n",
    "im = []\n",
    "im_avg = []\n",
    "for i in range(0, len(sams)):\n",
    "    im.append(data_wv[i].T)\n",
    "    im[i] = np.delete(im[i], del_values, 0)\n",
    "    \n",
    "    im_avg.append(data_wv_avg[i].T)\n",
    "    im_avg[i] = np.delete(im_avg[i], del_values, 0)\n",
    "\n",
    "#Plots for comparison\n",
    "plt.figure(1)\n",
    "plt.figure(figsize=(8,3))\n",
    "plt.suptitle(\"Trial:Feb 19 2016 15:31:14\", fontsize = 14)\n",
    "\n",
    "extent = [0, total_sample_time, freq_min, freq_max]\n",
    "plt.subplot(111)\n",
    "plt.imshow(scipy.absolute(im[0]), extent=extent, origin='lower', aspect='auto', interpolation='bicubic')\n",
    "plt.xticks(np.arange(0, total_sample_time, 0.2), np.arange(front_cut, sample_time - back_cut, 0.2))\n",
    "#plt.title('Electroencephalogram Evoked Potential')\n",
    "plt.xlabel(\"Time (sec)\")\n",
    "plt.ylabel(\"Frequency (Hz)\")"
   ]
  },
  {
   "cell_type": "code",
   "execution_count": null,
   "metadata": {
    "collapsed": false
   },
   "outputs": [],
   "source": [
    "labels[0][32]"
   ]
  },
  {
   "cell_type": "code",
   "execution_count": null,
   "metadata": {
    "collapsed": false
   },
   "outputs": [],
   "source": [
    "plt.figure(figsize=(12,3))\n",
    "plt.plot(data[3])"
   ]
  },
  {
   "cell_type": "code",
   "execution_count": null,
   "metadata": {
    "collapsed": false
   },
   "outputs": [],
   "source": [
    "data_dc.shape"
   ]
  },
  {
   "cell_type": "code",
   "execution_count": null,
   "metadata": {
    "collapsed": false
   },
   "outputs": [],
   "source": [
    "len(data_dc)"
   ]
  },
  {
   "cell_type": "code",
   "execution_count": null,
   "metadata": {
    "collapsed": false
   },
   "outputs": [],
   "source": [
    "freq_min = 9.0\n",
    "freq_max = 15.0\n",
    "del_values = np.concatenate([np.arange(0, int(freq_min*rto)), np.arange(int(freq_max*rto), 480)])\n",
    "\n",
    "im = []\n",
    "im_avg = []\n",
    "for i in range(0, len(sams)):\n",
    "    im.append(data_wv[i].T)\n",
    "    im[i] = np.delete(im[i], del_values, 0)\n",
    "    \n",
    "    im_avg.append(data_wv_avg[i].T)\n",
    "    im_avg[i] = np.delete(im_avg[i], del_values, 0)\n",
    "    \n",
    "#Plots for comparison\n",
    "plt.figure(1)\n",
    "plt.figure(figsize=(7,3))\n",
    "extent = [0, total_sample_time, freq_min, freq_max]\n",
    "interpolation = \"lanczos\"\n",
    "plt.subplot(1,1,1)\n",
    "plt.imshow(scipy.absolute(im_avg[1]), extent=extent, origin='lower', aspect='auto', interpolation=interpolation)\n",
    "plt.xticks(np.arange(0, total_sample_time, 0.2), np.arange(front_cut, sample_time - back_cut, 0.2))\n",
    "plt.colorbar()"
   ]
  },
  {
   "cell_type": "code",
   "execution_count": null,
   "metadata": {
    "collapsed": true
   },
   "outputs": [],
   "source": []
  },
  {
   "cell_type": "code",
   "execution_count": null,
   "metadata": {
    "collapsed": true
   },
   "outputs": [],
   "source": []
  }
 ],
 "metadata": {
  "kernelspec": {
   "display_name": "Python 3",
   "language": "python",
   "name": "python3"
  },
  "language_info": {
   "codemirror_mode": {
    "name": "ipython",
    "version": 3
   },
   "file_extension": ".py",
   "mimetype": "text/x-python",
   "name": "python",
   "nbconvert_exporter": "python",
   "pygments_lexer": "ipython3",
   "version": "3.4.2"
  }
 },
 "nbformat": 4,
 "nbformat_minor": 0
}
