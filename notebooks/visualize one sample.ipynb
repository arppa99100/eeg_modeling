{
 "cells": [
  {
   "cell_type": "code",
   "execution_count": 1,
   "metadata": {
    "collapsed": true
   },
   "outputs": [],
   "source": [
    "import matplotlib\n",
    "matplotlib.use('Agg')\n",
    "%matplotlib inline\n",
    "import matplotlib.pyplot as plt"
   ]
  },
  {
   "cell_type": "code",
   "execution_count": 2,
   "metadata": {
    "collapsed": false
   },
   "outputs": [],
   "source": [
    "import os\n",
    "import sys\n",
    "import json\n",
    "import pickle\n",
    "\n",
    "import numpy as np\n",
    "\n",
    "sys.path.insert(0, \"/home/anonymous/Desktop/eeg_sampling/modeling\")\n",
    "from readbytes import _read8, _read32\n",
    "from datafilters import apply_dc_filter"
   ]
  },
  {
   "cell_type": "code",
   "execution_count": 22,
   "metadata": {
    "collapsed": false
   },
   "outputs": [],
   "source": [
    "fs = 250\n",
    "sample_time = 1.5\n",
    "num_channels = 8\n",
    "max_rows = int(250*sample_time - 10)\n",
    "\n",
    "masterfolder = \"predicting\"\n",
    "dt_f32 = np.dtype(\"<f4\")\n",
    "\n",
    "path = \"./..\"\n",
    "visualizepath = path + '/visualizing'"
   ]
  },
  {
   "cell_type": "code",
   "execution_count": 8,
   "metadata": {
    "collapsed": false
   },
   "outputs": [],
   "source": [
    "with open(visualizepath+\"/sample/\"+\"visualize_000000\", \"rb\") as readstream:\n",
    "    magic = _read32(readstream)\n",
    "    rows = _read32(readstream)\n",
    "    cols = _read32(readstream)\n",
    "    buf = readstream.read(max_rows * cols * dt_f32.itemsize)\n",
    "    data = np.frombuffer(buf, dtype=dt_f32)\n",
    "    data.shape = (max_rows, cols)"
   ]
  },
  {
   "cell_type": "code",
   "execution_count": 9,
   "metadata": {
    "collapsed": true
   },
   "outputs": [],
   "source": [
    "#DC Filter\n",
    "enable_dc = True\n",
    "dc_lowcut = 1.0\n",
    "dc_highcut = 13.0\n",
    "dc_order = 2\n",
    "dc_type = \"bandpass\"\n",
    "dc_func_type = \"butter\""
   ]
  },
  {
   "cell_type": "code",
   "execution_count": 10,
   "metadata": {
    "collapsed": false
   },
   "outputs": [],
   "source": [
    "data.flags['WRITEABLE'] = True\n",
    "for i in range(0, data.shape[1]):\n",
    "    data[:,i] = apply_dc_filter(data[:,i], fs, dc_lowcut, dc_highcut, dc_order, dc_type, dc_func_type)"
   ]
  },
  {
   "cell_type": "code",
   "execution_count": 53,
   "metadata": {
    "collapsed": false
   },
   "outputs": [
    {
     "data": {
      "text/plain": [
       "[<matplotlib.lines.Line2D at 0x7f42cc4af2b0>,\n",
       " <matplotlib.lines.Line2D at 0x7f42cc4e73c8>,\n",
       " <matplotlib.lines.Line2D at 0x7f42cc5b9da0>,\n",
       " <matplotlib.lines.Line2D at 0x7f42cc48c358>,\n",
       " <matplotlib.lines.Line2D at 0x7f42cc48c5f8>,\n",
       " <matplotlib.lines.Line2D at 0x7f42cc48c9b0>,\n",
       " <matplotlib.lines.Line2D at 0x7f42cc48cbe0>,\n",
       " <matplotlib.lines.Line2D at 0x7f42cc4d4438>]"
      ]
     },
     "execution_count": 53,
     "metadata": {},
     "output_type": "execute_result"
    },
    {
     "data": {
      "image/png": "[encoded data removed]",
      "text/plain": [
       "<matplotlib.figure.Figure at 0x7f42cc4af2e8>"
      ]
     },
     "metadata": {},
     "output_type": "display_data"
    }
   ],
   "source": [
    "interval_num = 6\n",
    "\n",
    "xminsec = 0.1\n",
    "xmaxsec = 1.2\n",
    "xintervalsec = np.around([(xmaxsec - xminsec)/interval_num], decimals=2)[0]\n",
    "\n",
    "xmin = xminsec*fs\n",
    "xmax = xmaxsec*fs\n",
    "xinterval = int((xmax-xmin)/interval_num)\n",
    "\n",
    "#extent = [0, total_sample_time, freq_min, freq_max]\n",
    "\n",
    "plt.figure(figsize=(5,3))\n",
    "plt.ylim([-5000,5000])\n",
    "plt.xlim([int(xmin),int(xmax)])\n",
    "plt.xticks(np.arange(xmin, xmax, xinterval), np.arange(xminsec, xmaxsec, xintervalsec))\n",
    "plt.plot(data)"
   ]
  },
  {
   "cell_type": "code",
   "execution_count": null,
   "metadata": {
    "collapsed": true
   },
   "outputs": [],
   "source": [
    "plt.savefig('./../../public/eegimages/test.png')"
   ]
  },
  {
   "cell_type": "code",
   "execution_count": 36,
   "metadata": {
    "collapsed": false
   },
   "outputs": [
    {
     "data": {
      "text/plain": [
       "array([ 0.    ,  0.1875,  0.375 ,  0.5625,  0.75  ,  0.9375,  1.125 ,\n",
       "        1.3125])"
      ]
     },
     "execution_count": 36,
     "metadata": {},
     "output_type": "execute_result"
    }
   ],
   "source": [
    "\n",
    "#np.linspace()"
   ]
  },
  {
   "cell_type": "code",
   "execution_count": 21,
   "metadata": {
    "collapsed": false
   },
   "outputs": [
    {
     "data": {
      "text/plain": [
       "2.92"
      ]
     },
     "execution_count": 21,
     "metadata": {},
     "output_type": "execute_result"
    }
   ],
   "source": []
  },
  {
   "cell_type": "code",
   "execution_count": null,
   "metadata": {
    "collapsed": true
   },
   "outputs": [],
   "source": []
  }
 ],
 "metadata": {
  "kernelspec": {
   "display_name": "Python 3",
   "language": "python",
   "name": "python3"
  },
  "language_info": {
   "codemirror_mode": {
    "name": "ipython",
    "version": 3
   },
   "file_extension": ".py",
   "mimetype": "text/x-python",
   "name": "python",
   "nbconvert_exporter": "python",
   "pygments_lexer": "ipython3",
   "version": "3.4.2"
  }
 },
 "nbformat": 4,
 "nbformat_minor": 0
}
