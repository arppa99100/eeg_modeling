{
 "cells": [
  {
   "cell_type": "code",
   "execution_count": 1,
   "metadata": {
    "collapsed": false
   },
   "outputs": [],
   "source": [
    "import os\n",
    "import sys\n",
    "import numpy as np\n",
    "\n",
    "sys.path.insert(0, \"/home/anonymous/Desktop/eeg_sampling/modeling\")\n",
    "from readbytes import _read8, _read32, _read_chunks\n",
    "from dataio import readdata2, readlabels2"
   ]
  },
  {
   "cell_type": "code",
   "execution_count": 2,
   "metadata": {
    "collapsed": true
   },
   "outputs": [],
   "source": [
    "curatedpath = \"./../curated\"\n",
    "dt_f32 = np.dtype(\"<f4\")"
   ]
  },
  {
   "cell_type": "code",
   "execution_count": null,
   "metadata": {
    "collapsed": false
   },
   "outputs": [],
   "source": [
    "dataset = []\n",
    "with open(curatedpath + \"/raw-samples\", \"rb\") as readstream:\n",
    "    magic = _read32(readstream)\n",
    "    num_tests = _read32(readstream)\n",
    "    rows = _read32(readstream)\n",
    "    cols = _read32(readstream)\n",
    "    for i in range(0, num_tests):\n",
    "        samples = _read32(readstream)\n",
    "        buf = readstream.read(rows*cols*samples*dt_f32.itemsize)\n",
    "        dataset_temp = np.frombuffer(buf, dtype=dt_f32)\n",
    "        dataset_temp.shape = (samples, rows, cols)\n",
    "        dataset.append(dataset_temp)\n",
    "    print(dataset[0].shape)"
   ]
  },
  {
   "cell_type": "code",
   "execution_count": 5,
   "metadata": {
    "collapsed": false
   },
   "outputs": [
    {
     "name": "stdout",
     "output_type": "stream",
     "text": [
      "17\n"
     ]
    }
   ],
   "source": [
    "predataset = readdata2(\"./../curated/raw-presamples\")\n",
    "dataset = readdata2(\"./../curated/raw-samples\")\n",
    "labels = readlabels2(\"./../curated/raw-inputs\")"
   ]
  },
  {
   "cell_type": "code",
   "execution_count": null,
   "metadata": {
    "collapsed": true
   },
   "outputs": [],
   "source": []
  }
 ],
 "metadata": {
  "kernelspec": {
   "display_name": "Python 3",
   "language": "python",
   "name": "python3"
  },
  "language_info": {
   "codemirror_mode": {
    "name": "ipython",
    "version": 3
   },
   "file_extension": ".py",
   "mimetype": "text/x-python",
   "name": "python",
   "nbconvert_exporter": "python",
   "pygments_lexer": "ipython3",
   "version": "3.4.2"
  }
 },
 "nbformat": 4,
 "nbformat_minor": 0
}
