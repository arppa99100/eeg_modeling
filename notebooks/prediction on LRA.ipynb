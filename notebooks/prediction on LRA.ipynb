{
 "cells": [
  {
   "cell_type": "code",
   "execution_count": 27,
   "metadata": {
    "collapsed": true
   },
   "outputs": [],
   "source": [
    "import os\n",
    "import sys\n",
    "import pickle\n",
    "import numpy as np\n",
    "import tensorflow as tf\n",
    "\n",
    "from sklearn import svm\n",
    "from sklearn import tree\n",
    "from sklearn import linear_model\n",
    "from sklearn.neighbors import KNeighborsClassifier\n",
    "from sklearn.discriminant_analysis import LinearDiscriminantAnalysis\n",
    "from sklearn.ensemble import VotingClassifier, AdaBoostClassifier, BaggingClassifier, RandomForestClassifier, ExtraTreesClassifier\n",
    "from sklearn.linear_model import SGDClassifier\n",
    "from sklearn.naive_bayes import MultinomialNB\n",
    "from sklearn.metrics import accuracy_score\n",
    "from sklearn.cross_validation import cross_val_score\n",
    "from sklearn.decomposition import PCA \n",
    "from sklearn.utils import shuffle\n",
    "from sklearn.externals import joblib\n",
    "\n",
    "sys.path.insert(0, \"/home/anonymous/Desktop/eeg_sampling/modeling\")\n",
    "from dataio import readdata, readlabels, writedata"
   ]
  },
  {
   "cell_type": "code",
   "execution_count": 28,
   "metadata": {
    "collapsed": true
   },
   "outputs": [],
   "source": [
    "def weight_avg(a, b, c):\n",
    "    d = []\n",
    "    for i in range(0,len(a)):\n",
    "        bins = [0, 0, 0]\n",
    "        bins[a[i]] += 1\n",
    "        bins[b[i]] += 1\n",
    "        bins[c[i]] += 1\n",
    "        d.append(bins.index(max(bins)))\n",
    "    return(d)"
   ]
  },
  {
   "cell_type": "code",
   "execution_count": 29,
   "metadata": {
    "collapsed": false
   },
   "outputs": [
    {
     "name": "stdout",
     "output_type": "stream",
     "text": [
      "Training: (451, 241, 1) (451, 241, 1) (451, 241, 1) (451,)\n",
      "Testing: (115, 241, 1) (115, 241, 1) (115, 241, 1) (115,)\n"
     ]
    }
   ],
   "source": [
    "#Read training\n",
    "train_dataset_right = readdata(\"./../curated/train_dataset_right\")\n",
    "train_dataset_left = readdata(\"./../curated/train_dataset_left\")\n",
    "train_dataset_avg = readdata(\"./../curated/train_dataset_avg\")\n",
    "train_labels = readlabels(\"./../curated/train_labels\")\n",
    "\n",
    "#Read test\n",
    "test_dataset_right = readdata(\"./../curated/test_dataset_right\")\n",
    "test_dataset_left = readdata(\"./../curated/test_dataset_left\")\n",
    "test_dataset_avg = readdata(\"./../curated/test_dataset_avg\")\n",
    "test_labels = readlabels(\"./../curated/test_labels\")\n",
    "\n",
    "print('Training:', train_dataset_right.shape, train_dataset_left.shape, train_dataset_avg.shape, train_labels.shape)\n",
    "print('Testing:', test_dataset_right.shape, test_dataset_left.shape, test_dataset_avg.shape, test_labels.shape)"
   ]
  },
  {
   "cell_type": "code",
   "execution_count": 30,
   "metadata": {
    "collapsed": true
   },
   "outputs": [],
   "source": [
    "n_input = 241*1 # EEG data input (16 Hz range * 480 sample points)\n",
    "n_classes = 3 # EEG total classes (\"nothing\", \"up\", \"down\", \"left\", \"right\")"
   ]
  },
  {
   "cell_type": "code",
   "execution_count": 31,
   "metadata": {
    "collapsed": false
   },
   "outputs": [
    {
     "name": "stdout",
     "output_type": "stream",
     "text": [
      "(451, 241)\n",
      "(451, 241)\n",
      "(451, 241)\n",
      "(115, 241)\n",
      "(115, 241)\n",
      "(115, 241)\n"
     ]
    }
   ],
   "source": [
    "train_dataset_right.shape = (train_dataset_right.shape[0], n_input)\n",
    "train_dataset_left.shape = (train_dataset_left.shape[0], n_input)\n",
    "train_dataset_avg.shape = (train_dataset_avg.shape[0], n_input)\n",
    "\n",
    "test_dataset_right.shape = (test_dataset_right.shape[0], n_input)\n",
    "test_dataset_left.shape = (test_dataset_left.shape[0], n_input)\n",
    "test_dataset_avg.shape = (test_dataset_avg.shape[0], n_input)\n",
    "\n",
    "print(train_dataset_right.shape)\n",
    "print(train_dataset_left.shape)\n",
    "print(train_dataset_avg.shape)\n",
    "\n",
    "print(test_dataset_right.shape)\n",
    "print(test_dataset_left.shape)\n",
    "print(test_dataset_avg.shape)"
   ]
  },
  {
   "cell_type": "code",
   "execution_count": 39,
   "metadata": {
    "collapsed": false
   },
   "outputs": [
    {
     "name": "stdout",
     "output_type": "stream",
     "text": [
      "Knn Acc Right:  0.426086956522\n",
      "Knn Acc Left:  0.391304347826\n",
      "Knn Acc Avg:  0.321739130435\n"
     ]
    }
   ],
   "source": [
    "#KNN\n",
    "knn = KNeighborsClassifier(\n",
    "    algorithm=\"auto\", \n",
    "    weights=\"uniform\", \n",
    "    n_neighbors=30)\n",
    "\n",
    "knn.fit(train_dataset_right, train_labels)\n",
    "knn_pred = knn.predict(test_dataset_right)\n",
    "knn_acc = accuracy_score(test_labels, knn_pred)\n",
    "print(\"Knn Acc Right: \", knn_acc)\n",
    "\n",
    "knn.fit(train_dataset_left, train_labels)\n",
    "knn_pred = knn.predict(test_dataset_left)\n",
    "knn_acc = accuracy_score(test_labels, knn_pred)\n",
    "print(\"Knn Acc Left: \", knn_acc)\n",
    "\n",
    "knn.fit(train_dataset_avg, train_labels)\n",
    "knn_pred = knn.predict(test_dataset_avg)\n",
    "knn_acc = accuracy_score(test_labels, knn_pred)\n",
    "print(\"Knn Acc Avg: \", knn_acc)"
   ]
  },
  {
   "cell_type": "code",
   "execution_count": 40,
   "metadata": {
    "collapsed": false
   },
   "outputs": [
    {
     "name": "stdout",
     "output_type": "stream",
     "text": [
      "Lda Acc Right:  0.339130434783\n",
      "Lda Acc Left:  0.417391304348\n",
      "Lda Acc Avg:  0.339130434783\n"
     ]
    }
   ],
   "source": [
    "#LDA\n",
    "lda = LinearDiscriminantAnalysis(\n",
    "    solver=\"svd\",\n",
    "    store_covariance=False,\n",
    "    tol = 0.0001)\n",
    "\n",
    "lda.fit(train_dataset_right, train_labels)\n",
    "lda_pred = lda.predict(test_dataset_right)\n",
    "lda_acc = accuracy_score(test_labels, lda_pred)\n",
    "print(\"Lda Acc Right: \", lda_acc)\n",
    "\n",
    "lda.fit(train_dataset_left, train_labels)\n",
    "lda_pred = lda.predict(test_dataset_left)\n",
    "lda_acc = accuracy_score(test_labels, lda_pred)\n",
    "print(\"Lda Acc Left: \", lda_acc)\n",
    "\n",
    "lda.fit(train_dataset_avg, train_labels)\n",
    "lda_pred = lda.predict(test_dataset_avg)\n",
    "lda_acc = accuracy_score(test_labels, lda_pred)\n",
    "print(\"Lda Acc Avg: \", lda_acc)"
   ]
  },
  {
   "cell_type": "code",
   "execution_count": 41,
   "metadata": {
    "collapsed": false
   },
   "outputs": [
    {
     "name": "stdout",
     "output_type": "stream",
     "text": [
      "Svm Acc Right:  0.321739130435\n",
      "Svm Acc Left:  0.391304347826\n",
      "Svm Acc Avg:  0.373913043478\n"
     ]
    }
   ],
   "source": [
    "#SVM\n",
    "svm_mod = svm.LinearSVC(\n",
    "    C=1.0,\n",
    "    penalty=\"l2\",\n",
    "    loss=\"squared_hinge\",\n",
    "    tol=0.0001)\n",
    "\n",
    "svm_mod.fit(train_dataset_right, train_labels)\n",
    "svm_pred = svm_mod.predict(test_dataset_right)\n",
    "svm_acc = accuracy_score(test_labels, svm_pred)\n",
    "print(\"Svm Acc Right: \", svm_acc)\n",
    "\n",
    "svm_mod.fit(train_dataset_left, train_labels)\n",
    "svm_pred = svm_mod.predict(test_dataset_left)\n",
    "svm_acc = accuracy_score(test_labels, svm_pred)\n",
    "print(\"Svm Acc Left: \", svm_acc)\n",
    "\n",
    "svm_mod.fit(train_dataset_avg, train_labels)\n",
    "svm_pred = svm_mod.predict(test_dataset_avg)\n",
    "svm_acc = accuracy_score(test_labels, svm_pred)\n",
    "print(\"Svm Acc Avg: \", svm_acc)"
   ]
  },
  {
   "cell_type": "code",
   "execution_count": 42,
   "metadata": {
    "collapsed": false
   },
   "outputs": [
    {
     "name": "stdout",
     "output_type": "stream",
     "text": [
      "For Acc Right:  0.330434782609\n",
      "For Acc Left:  0.4\n",
      "For Acc Avg:  0.373913043478\n"
     ]
    }
   ],
   "source": [
    "#Random Forests\n",
    "forest = ExtraTreesClassifier(n_estimators = 1000)\n",
    "\n",
    "forest.fit(train_dataset_right, train_labels)\n",
    "forest_pred = forest.predict(test_dataset_right)\n",
    "forest_acc = accuracy_score(test_labels, forest_pred)\n",
    "print(\"For Acc Right: \", forest_acc)\n",
    "\n",
    "forest.fit(train_dataset_left, train_labels)\n",
    "forest_pred = forest.predict(test_dataset_left)\n",
    "forest_acc = accuracy_score(test_labels, forest_pred)\n",
    "print(\"For Acc Left: \", forest_acc)\n",
    "\n",
    "forest.fit(train_dataset_avg, train_labels)\n",
    "forest_pred = forest.predict(test_dataset_avg)\n",
    "forest_acc = accuracy_score(test_labels, forest_pred)\n",
    "print(\"For Acc Avg: \", forest_acc)"
   ]
  },
  {
   "cell_type": "code",
   "execution_count": 43,
   "metadata": {
    "collapsed": false
   },
   "outputs": [
    {
     "name": "stdout",
     "output_type": "stream",
     "text": [
      "Ada Acc Right:  0.391304347826\n",
      "Ada Acc Left:  0.391304347826\n",
      "Ada Acc Avg:  0.347826086957\n"
     ]
    }
   ],
   "source": [
    "#Ada\n",
    "ada = AdaBoostClassifier(n_estimators = 50)\n",
    "\n",
    "ada.fit(train_dataset_right, train_labels)\n",
    "ada_pred = ada.predict(test_dataset_right)\n",
    "ada_acc = accuracy_score(test_labels, ada_pred)\n",
    "print(\"Ada Acc Right: \", ada_acc)\n",
    "\n",
    "ada.fit(train_dataset_left, train_labels)\n",
    "ada_pred = ada.predict(test_dataset_left)\n",
    "ada_acc = accuracy_score(test_labels, ada_pred)\n",
    "print(\"Ada Acc Left: \", ada_acc)\n",
    "\n",
    "ada.fit(train_dataset_avg, train_labels)\n",
    "ada_pred = ada.predict(test_dataset_avg)\n",
    "ada_acc = accuracy_score(test_labels, ada_pred)\n",
    "print(\"Ada Acc Avg: \", ada_acc)"
   ]
  },
  {
   "cell_type": "code",
   "execution_count": 44,
   "metadata": {
    "collapsed": false
   },
   "outputs": [
    {
     "name": "stdout",
     "output_type": "stream",
     "text": [
      "Lgr Acc Right:  0.339130434783\n",
      "Lgr Acc Left:  0.365217391304\n",
      "Lgr Acc Avg:  0.313043478261\n",
      "Lgr Acc WAvg: 0.313043478261\n"
     ]
    }
   ],
   "source": [
    "#Logistic\n",
    "lgr = linear_model.LogisticRegression()\n",
    "\n",
    "lgr.fit(train_dataset_right, train_labels)\n",
    "lgr_pred_right = lgr.predict(test_dataset_right)\n",
    "lgr_acc = accuracy_score(test_labels, lgr_pred_right)\n",
    "print(\"Lgr Acc Right: \", lgr_acc)\n",
    "\n",
    "lgr.fit(train_dataset_left, train_labels)\n",
    "lgr_pred_left = lgr.predict(test_dataset_left)\n",
    "lgr_acc = accuracy_score(test_labels, lgr_pred_left)\n",
    "print(\"Lgr Acc Left: \", lgr_acc)\n",
    "\n",
    "lgr.fit(train_dataset_avg, train_labels)\n",
    "lgr_pred_avg = lgr.predict(test_dataset_avg)\n",
    "lgr_acc = accuracy_score(test_labels, lgr_pred_avg)\n",
    "print(\"Lgr Acc Avg: \", lgr_acc)\n",
    "\n",
    "lgr_weighted_avg = weight_avg(lgr_pred_right, lgr_pred_left, lgr_pred_avg)\n",
    "lgr_acc = accuracy_score(test_labels, lgr_weighted_avg)\n",
    "print(\"Lgr Acc WAvg:\", lgr_acc)"
   ]
  },
  {
   "cell_type": "code",
   "execution_count": 38,
   "metadata": {
    "collapsed": false
   },
   "outputs": [
    {
     "name": "stdout",
     "output_type": "stream",
     "text": [
      "(451, 25)\n",
      "(115, 25)\n",
      "(451, 25)\n",
      "(115, 25)\n",
      "(451, 25)\n",
      "(115, 25)\n"
     ]
    }
   ],
   "source": [
    "#PCA \n",
    "pca = PCA(n_components=25)\n",
    "\n",
    "train_dataset_right = pca.fit_transform(train_dataset_right)\n",
    "test_dataset_right = pca.fit_transform(test_dataset_right)\n",
    "print(train_dataset_right.shape)\n",
    "print(test_dataset_right.shape)\n",
    "\n",
    "train_dataset_left = pca.fit_transform(train_dataset_left)\n",
    "test_dataset_left = pca.fit_transform(test_dataset_left)\n",
    "print(train_dataset_left.shape)\n",
    "print(test_dataset_left.shape)\n",
    "\n",
    "train_dataset_avg = pca.fit_transform(train_dataset_avg)\n",
    "test_dataset_avg = pca.fit_transform(test_dataset_avg)\n",
    "print(train_dataset_avg.shape)\n",
    "print(test_dataset_avg.shape)"
   ]
  },
  {
   "cell_type": "code",
   "execution_count": null,
   "metadata": {
    "collapsed": false
   },
   "outputs": [],
   "source": [
    "print(train_dataset_right.shape)\n",
    "print(test_dataset_right.shape)"
   ]
  },
  {
   "cell_type": "code",
   "execution_count": null,
   "metadata": {
    "collapsed": true
   },
   "outputs": [],
   "source": []
  }
 ],
 "metadata": {
  "kernelspec": {
   "display_name": "Python 3",
   "language": "python",
   "name": "python3"
  },
  "language_info": {
   "codemirror_mode": {
    "name": "ipython",
    "version": 3
   },
   "file_extension": ".py",
   "mimetype": "text/x-python",
   "name": "python",
   "nbconvert_exporter": "python",
   "pygments_lexer": "ipython3",
   "version": "3.4.2"
  }
 },
 "nbformat": 4,
 "nbformat_minor": 0
}
