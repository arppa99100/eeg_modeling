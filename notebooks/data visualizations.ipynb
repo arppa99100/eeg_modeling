{
 "cells": [
  {
   "cell_type": "code",
   "execution_count": null,
   "metadata": {
    "collapsed": true
   },
   "outputs": [],
   "source": [
    "visual_cue = 0.6\n",
    "sensory_offset = 0.3\n",
    "im = temp[0].T\n",
    "#im = np.delete(im, np.arange(200, 480), 0)\n",
    "\n",
    "#Plots for comparison\n",
    "plt.figure(1)\n",
    "plt.figure(figsize=(8,6))\n",
    "plt.suptitle(\"Test:Left | Trail:Feb 19 2016 15:31:14 | Channel:T3\", fontsize = 14)\n",
    "\n",
    "plt.subplot(211)\n",
    "plt.title('Electroencephalogram Evoked Potential')\n",
    "extent = [0, sample_time, 0, dc_highcut]\n",
    "plt.imshow(scipy.absolute(im), extent=extent, origin='lower', aspect='auto', interpolation='bicubic')\n",
    "#plt.imshow(scipy.absolute(im), origin='lower', aspect='auto', interpolation='bicubic')\n",
    "plt.xticks(np.arange(0,sample_time,0.2))\n",
    "plt.xlabel(\"Time (sec)\")\n",
    "plt.ylabel(\"Frequency (Hz)\")\n",
    "\n",
    "plt.axvline(visual_cue, linewidth=2, color='m', linestyle=\"--\")\n",
    "plt.axvline(visual_cue+sensory_offset, linewidth=2, color='g', linestyle=\"--\")\n",
    "#plt.colorbar()\n",
    "\n",
    "plt.subplot(212);\n",
    "plt.title('Raw Electroencephalogram')\n",
    "plt.plot(np.linspace(0,sample_time,train_dataset[1,:,0].shape[0]),train_dataset[1,:,0])\n",
    "plt.xticks(np.arange(0,sample_time,0.2))\n",
    "plt.xlabel(\"Time (sec)\")\n",
    "plt.ylabel(\"Micro-ElectroVolts (uVs)\")\n",
    "\n",
    "plt.axvline(visual_cue, linewidth=2, color='m', linestyle=\"--\")\n",
    "plt.axvline(visual_cue+sensory_offset, linewidth=2, color='g', linestyle=\"--\")\n",
    "\n",
    "#plt.tight_layout()\n",
    "plt.subplots_adjust(hspace=0.6)\n",
    "plt.show()"
   ]
  }
 ],
 "metadata": {
  "kernelspec": {
   "display_name": "Python 3",
   "language": "python",
   "name": "python3"
  },
  "language_info": {
   "codemirror_mode": {
    "name": "ipython",
    "version": 3
   },
   "file_extension": ".py",
   "mimetype": "text/x-python",
   "name": "python",
   "nbconvert_exporter": "python",
   "pygments_lexer": "ipython3",
   "version": "3.4.2"
  }
 },
 "nbformat": 4,
 "nbformat_minor": 0
}
