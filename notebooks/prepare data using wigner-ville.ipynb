{
 "cells": [
  {
   "cell_type": "code",
   "execution_count": 1,
   "metadata": {
    "collapsed": false
   },
   "outputs": [],
   "source": [
    "import os\n",
    "import sys\n",
    "import numpy as np\n",
    "import copy                                                                                                                                                                                                                                                                                                                                                                                                                                                                                                                                                                                                                                                                                                                                                                                                                                                                                                                                                                                                                                                                                                                                                                                                                                                                                                                                                                                                                                                                                                                                                                                                                                                                                                                                                                                                                                                                                                                                                                                                                                                                                                                                                                                                                                                                                                                                                                                                                                                                                                                                                                                                                                                                                                                                                                                                                                                                                                                                                                                                                                                                                                                                                                                                                                                                                                                                                                                                                                                                                                                                                                                                                                                                                                                                                                                                                                                                                                                                                                                                                                                                                                                                                                                                                                                                                                                                                                                                                                                                                                                                                                                                                                                                                                                                                                                                                                                                                                                                                                                                                                                                                                                                                                                                                                                                                                                                                                                                                                                                                                                                                                                                                                                                                                                                                                                                                                                                                                                                                                                                                                                                                                                                                                                                                                                                                                                                                                                                                                                                                                                                                                                                                                                                                                                                                                                                                                                                                                                                                                                                                                                                                                                                                                                                                                                                                                                                                                                                                                                                                                                                                                                                                                                                                                                                                                                                                                                                                                                                                                                                                                                                                                                                                                                                                                                                                                                                                                                                                                                                                                                                                                                                                                                                                                                                                                                                                                                                                                                                                                                                                                                                                                                                                                                                                                                                                                                                                                                                                                                                                                                                                                                                                                                                                                                                                                                                                                                                                                                                                                                                                                                                                                                                                                                                                                                                                                                                                                                                                                                                                                                                                                                                                                                                                                                                                                                                                                                                                                                                                                                                                                                                                                                                                                                                                                                                                                                                                                                                                                                                                                                                                                                                                                                                                                                                                                                                                                                                                                                                                                                                                                                                                                                                                                                                                                                                                                                                                                                                                                                                                                                                                                                                                                                                                                                                                                                                                                                                                                                                                                                                                                                                                                                                                                                                                                                                                                                                                                                                                                                                                                                                                                                                                                                                                                                                                                                                                                                                                                                                                                                                                                                                                                                                                                                                                                                                                                                                                                                                                                                                                                                                                                                                                                                                                                                                                                                                                                                                                                                                                                                                                                                                                                                                                                                                                                                                                                                                                                                                                                                                                                                                                                                                                                                                                                                                                                                                                                                                                                                                                                                                                                                                                                                                                                                                                                                                                                                                                                                                                                                                                                                                                                                                                                                                                                                                                                                     \n",
    "import scipy\n",
    "\n",
    "from sklearn.preprocessing import normalize\n",
    "\n",
    "sys.path.insert(0, \"/home/anonymous/Desktop/eeg_sampling/modeling\")\n",
    "from dataio import readdata2, readlabels2, writedata\n",
    "from datafilters import apply_dc_filter, apply_dwt_filter\n",
    "from wignerville import wvd, filtered_wvd"
   ]
  },
  {
   "cell_type": "code",
   "execution_count": 2,
   "metadata": {
    "collapsed": true
   },
   "outputs": [],
   "source": [
    "dataset = readdata2(\"./../curated/raw-samples\")\n",
    "labels = readlabels2(\"./../curated/raw-inputs\")\n",
    "\n",
    "#Constants\n",
    "fs = 250.0 #Frequency in Hz\n",
    "sample_time = dataset[0].shape[1]/fs #Total time for sample\n",
    "num_rows = 480 \n",
    "num_channels = 8\n",
    "rto = num_rows/(fs/2)"
   ]
  },
  {
   "cell_type": "code",
   "execution_count": 3,
   "metadata": {
    "collapsed": false
   },
   "outputs": [],
   "source": [
    "master_dataset = []\n",
    "\n",
    "# Channel 1 (For right hand movement)\n",
    "data = []\n",
    "for i in range(0, len(dataset)):\n",
    "    data.append(np.delete(dataset[i], [0,2,3,4,5,6,7], 2))\n",
    "    data[i].shape = (data[i].shape[0], data[i].shape[1])\n",
    "master_dataset.append(data)\n",
    "\n",
    "# Channel 3 (For left hand movement)\n",
    "data = []\n",
    "for i in range(0, len(dataset)):\n",
    "    data.append(np.delete(dataset[i], [0,1,2,4,5,6,7], 2))\n",
    "    data[i].shape = (data[i].shape[0], data[i].shape[1])\n",
    "master_dataset.append(data)\n",
    "  \n",
    "# Grand Average\n",
    "data = []\n",
    "for i in range(0,len(dataset)):\n",
    "    data.append(np.mean(dataset[i],axis=2))\n",
    "master_dataset.append(data)"
   ]
  },
  {
   "cell_type": "code",
   "execution_count": 4,
   "metadata": {
    "collapsed": true
   },
   "outputs": [],
   "source": [
    "#First filter\n",
    "dc_lowcut = 1.0\n",
    "dc_highcut = 13.0\n",
    "dc_order = 2\n",
    "dc_type = \"bandpass\"\n",
    "dc_func_type = \"butter\"\n",
    "for i in range(0, len(master_dataset)):\n",
    "    for j in range(0, len(master_dataset[i])):\n",
    "        for k in range(0, master_dataset[i][j].shape[0]):\n",
    "            master_dataset[i][j][k] = apply_dc_filter(master_dataset[i][j][k], fs, dc_lowcut, dc_highcut, dc_order, dc_type, dc_func_type)"
   ]
  },
  {
   "cell_type": "code",
   "execution_count": 5,
   "metadata": {
    "collapsed": false
   },
   "outputs": [],
   "source": [
    "#Wigner-Ville Transform with Normalization and Cut\n",
    "norm=\"l1\"\n",
    "\n",
    "freq_min = 1.0\n",
    "freq_max = 13.0\n",
    "del_values = np.concatenate([np.arange(0, int(freq_min*rto)), np.arange(int(freq_max*rto), 480)])\n",
    "\n",
    "master_wv = []\n",
    "for i in range(0, len(master_dataset)):\n",
    "    trial = []\n",
    "    for j in range(0, len(master_dataset[i])):\n",
    "        sample = []\n",
    "        for k in range(0, master_dataset[i][j].shape[0]):\n",
    "            wv_tmp = wvd(master_dataset[i][j][k])[0] #Compute Wigner-Ville\n",
    "            #wv_tmp = normalize(wv_tmp, axis=1, norm=norm) #Normalize data\n",
    "            wv_tmp = wv_tmp.T #Get Transform\n",
    "            wv_tmp = np.delete(wv_tmp, del_values, 0) #Cut to important data\n",
    "            wv_tmp = scipy.absolute(wv_tmp) #Get rid of neg values\n",
    "            sample.append(wv_tmp)\n",
    "        trial.append(sample)\n",
    "    master_wv.append(trial)"
   ]
  },
  {
   "cell_type": "code",
   "execution_count": null,
   "metadata": {
    "collapsed": true
   },
   "outputs": [],
   "source": [
    "import matplotlib\n",
    "matplotlib.use('Agg')\n",
    "%matplotlib inline\n",
    "import matplotlib.pyplot as plt"
   ]
  },
  {
   "cell_type": "code",
   "execution_count": null,
   "metadata": {
    "collapsed": false
   },
   "outputs": [],
   "source": [
    "#Test\n",
    "extent = [0, sample_time, freq_min, freq_max]\n",
    "interpolation = \"lanczos\"\n",
    "\n",
    "\n",
    "plt.figure(1)\n",
    "plt.figure(figsize=(8,3))\n",
    "plt.imshow(master_wv[0][0][0], extent=extent, origin='lower', aspect='auto', interpolation=interpolation)\n",
    "plt.colorbar()"
   ]
  },
  {
   "cell_type": "code",
   "execution_count": 6,
   "metadata": {
    "collapsed": false
   },
   "outputs": [],
   "source": [
    "# Test Set\n",
    "test_index = 4 #Last one\n",
    "test_dataset = []\n",
    "train_dataset = []\n",
    "for i in range(0, len(master_wv)):\n",
    "    test_dataset.append(master_wv[i][test_index])\n",
    "    master_wv[i] = np.delete(master_wv[i], test_index, axis = 0)\n",
    "    train_dataset.append(master_wv[i])\n",
    "    \n",
    "test_labels = labels[test_index]\n",
    "labels = np.delete(labels, test_index, axis = 0)\n",
    "train_labels = labels\n",
    "\n",
    "\n",
    "# Train Set\n",
    "for i in range(0, len(train_dataset)):\n",
    "    train_dataset[i] = np.concatenate(train_dataset[i])\n",
    "\n",
    "train_labels = np.concatenate(labels)"
   ]
  },
  {
   "cell_type": "code",
   "execution_count": 7,
   "metadata": {
    "collapsed": false
   },
   "outputs": [],
   "source": [
    "train_right = train_dataset[0].astype(np.float32)\n",
    "train_left = train_dataset[1].astype(np.float32)\n",
    "train_avg = train_dataset[2].astype(np.float32)\n",
    "\n",
    "test_right = np.array(test_dataset[0], dtype=np.float32)\n",
    "test_left = np.array(test_dataset[1], dtype=np.float32)\n",
    "test_avg = np.array(test_dataset[2], dtype=np.float32)\n",
    "\n",
    "#Write training\n",
    "writedata(\"./../curated/train_dataset_right\", train_right)\n",
    "writedata(\"./../curated/train_dataset_left\", train_left)\n",
    "writedata(\"./../curated/train_dataset_avg\", train_avg)\n",
    "writedata(\"./../curated/train_labels\", train_labels.astype(np.uint8))\n",
    "\n",
    "#Write test\n",
    "writedata(\"./../curated/test_dataset_right\", test_right)\n",
    "writedata(\"./../curated/test_dataset_left\", test_left)\n",
    "writedata(\"./../curated/test_dataset_avg\", test_avg)\n",
    "writedata(\"./../curated/test_labels\", test_labels.astype(np.int8))"
   ]
  },
  {
   "cell_type": "code",
   "execution_count": null,
   "metadata": {
    "collapsed": false
   },
   "outputs": [],
   "source": [
    "train_right.shape"
   ]
  },
  {
   "cell_type": "code",
   "execution_count": null,
   "metadata": {
    "collapsed": true
   },
   "outputs": [],
   "source": []
  }
 ],
 "metadata": {
  "kernelspec": {
   "display_name": "Python 3",
   "language": "python",
   "name": "python3"
  },
  "language_info": {
   "codemirror_mode": {
    "name": "ipython",
    "version": 3
   },
   "file_extension": ".py",
   "mimetype": "text/x-python",
   "name": "python",
   "nbconvert_exporter": "python",
   "pygments_lexer": "ipython3",
   "version": "3.4.2"
  }
 },
 "nbformat": 4,
 "nbformat_minor": 0
}
