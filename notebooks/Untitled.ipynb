{
 "cells": [
  {
   "cell_type": "code",
   "execution_count": 1,
   "metadata": {
    "collapsed": false
   },
   "outputs": [],
   "source": [
    "import sys\n",
    "import mne\n",
    "import numpy as np\n",
    "sys.path.insert(0, \"/home/anonymous/Desktop/eeg_sampling/modeling\")\n",
    "from dataio import readdata2, readlabels2, writedata"
   ]
  },
  {
   "cell_type": "code",
   "execution_count": 2,
   "metadata": {
    "collapsed": false
   },
   "outputs": [],
   "source": [
    "old_dataset = readdata2(\"./../curated/raw-samples\")\n",
    "labels = readlabels2(\"./../curated/raw-inputs\")\n",
    "fs = 250.0 #Frequency in Hz\n",
    "sample_time = old_dataset[0].shape[1]/fs #Total time for sample\n",
    "num_rows = 480\n",
    "num_channels = 8"
   ]
  },
  {
   "cell_type": "code",
   "execution_count": 3,
   "metadata": {
    "collapsed": false
   },
   "outputs": [],
   "source": [
    "dataset = []\n",
    "for i in range(0, len(old_dataset)):\n",
    "    trial = []\n",
    "    for j in range(0, old_dataset[i].shape[0]):\n",
    "        trial.append(old_dataset[i][j].T)\n",
    "    dataset.append(np.array(trial))"
   ]
  },
  {
   "cell_type": "code",
   "execution_count": 27,
   "metadata": {
    "collapsed": false
   },
   "outputs": [
    {
     "name": "stdout",
     "output_type": "stream",
     "text": [
      "The events passed to the Epochs constructor are not chronologically ordered.\n",
      "115 matching events found\n",
      "0 projection items activated\n",
      "No baseline correction applied...\n",
      "No baseline correction applied...\n",
      "No baseline correction applied...\n",
      "No baseline correction applied...\n",
      "No baseline correction applied...\n",
      "No baseline correction applied...\n",
      "No baseline correction applied...\n",
      "No baseline correction applied...\n",
      "No baseline correction applied...\n",
      "No baseline correction applied...\n",
      "No baseline correction applied...\n",
      "No baseline correction applied...\n",
      "No baseline correction applied...\n",
      "No baseline correction applied...\n",
      "No baseline correction applied...\n",
      "No baseline correction applied...\n",
      "No baseline correction applied...\n",
      "No baseline correction applied...\n",
      "No baseline correction applied...\n",
      "No baseline correction applied...\n",
      "No baseline correction applied...\n",
      "No baseline correction applied...\n",
      "No baseline correction applied...\n",
      "No baseline correction applied...\n",
      "No baseline correction applied...\n",
      "No baseline correction applied...\n",
      "No baseline correction applied...\n",
      "No baseline correction applied...\n",
      "No baseline correction applied...\n",
      "No baseline correction applied...\n",
      "No baseline correction applied...\n",
      "No baseline correction applied...\n",
      "No baseline correction applied...\n",
      "No baseline correction applied...\n",
      "No baseline correction applied...\n",
      "No baseline correction applied...\n",
      "No baseline correction applied...\n",
      "No baseline correction applied...\n",
      "No baseline correction applied...\n",
      "No baseline correction applied...\n",
      "No baseline correction applied...\n",
      "No baseline correction applied...\n",
      "No baseline correction applied...\n",
      "No baseline correction applied...\n",
      "No baseline correction applied...\n",
      "No baseline correction applied...\n",
      "No baseline correction applied...\n",
      "No baseline correction applied...\n",
      "No baseline correction applied...\n",
      "No baseline correction applied...\n",
      "No baseline correction applied...\n",
      "No baseline correction applied...\n",
      "No baseline correction applied...\n",
      "No baseline correction applied...\n",
      "No baseline correction applied...\n",
      "No baseline correction applied...\n",
      "No baseline correction applied...\n",
      "No baseline correction applied...\n",
      "No baseline correction applied...\n",
      "No baseline correction applied...\n",
      "No baseline correction applied...\n",
      "No baseline correction applied...\n",
      "No baseline correction applied...\n",
      "No baseline correction applied...\n",
      "No baseline correction applied...\n",
      "No baseline correction applied...\n",
      "No baseline correction applied...\n",
      "No baseline correction applied...\n",
      "No baseline correction applied...\n",
      "No baseline correction applied...\n",
      "No baseline correction applied...\n",
      "No baseline correction applied...\n",
      "No baseline correction applied...\n",
      "No baseline correction applied...\n",
      "No baseline correction applied...\n",
      "No baseline correction applied...\n",
      "No baseline correction applied...\n",
      "No baseline correction applied...\n",
      "No baseline correction applied...\n",
      "No baseline correction applied...\n",
      "No baseline correction applied...\n",
      "No baseline correction applied...\n",
      "No baseline correction applied...\n",
      "No baseline correction applied...\n",
      "No baseline correction applied...\n",
      "No baseline correction applied...\n",
      "No baseline correction applied...\n",
      "No baseline correction applied...\n",
      "No baseline correction applied...\n",
      "No baseline correction applied...\n",
      "No baseline correction applied...\n",
      "No baseline correction applied...\n",
      "No baseline correction applied...\n",
      "No baseline correction applied...\n",
      "No baseline correction applied...\n",
      "No baseline correction applied...\n",
      "No baseline correction applied...\n",
      "No baseline correction applied...\n",
      "No baseline correction applied...\n",
      "No baseline correction applied...\n",
      "No baseline correction applied...\n",
      "No baseline correction applied...\n",
      "No baseline correction applied...\n",
      "No baseline correction applied...\n",
      "No baseline correction applied...\n",
      "No baseline correction applied...\n",
      "No baseline correction applied...\n",
      "No baseline correction applied...\n",
      "No baseline correction applied...\n",
      "No baseline correction applied...\n",
      "No baseline correction applied...\n",
      "No baseline correction applied...\n",
      "No baseline correction applied...\n",
      "No baseline correction applied...\n",
      "No baseline correction applied...\n",
      "0 bad epochs dropped\n"
     ]
    },
    {
     "name": "stderr",
     "output_type": "stream",
     "text": [
      "/usr/lib/python3.4/site-packages/ipykernel/__main__.py:4: RuntimeWarning: The events passed to the Epochs constructor are not chronologically ordered.\n"
     ]
    }
   ],
   "source": [
    "info = mne.create_info(ch_names=[\"T3\",\"C3\",\"Cz\",\"C4\",\"T4\",\"F3\",\"Fz\",\"F4\"], sfreq=250, ch_types=\"eeg\")\n",
    "events = np.repeat([1, 0, 1], dataset[0].shape[0], axis=0)\n",
    "events.shape = (dataset[0].shape[0], 3)\n",
    "epochs = mne.EpochsArray(dataset[0], info, events)"
   ]
  },
  {
   "cell_type": "code",
   "execution_count": 31,
   "metadata": {
    "collapsed": false
   },
   "outputs": [
    {
     "name": "stdout",
     "output_type": "stream",
     "text": [
      "Epochs are not baseline corrected, covariance matrix may be inaccurate\n",
      "Epochs are not baseline corrected, covariance matrix may be inaccurate\n",
      "Estimating covariance using EMPIRICAL\n",
      "Done.\n",
      "Using cross-validation to select the best estimator.\n",
      "Number of samples used : 115\n",
      "[done]\n",
      "log-likelihood on unseen data (descending order):\n",
      "   empirical: -13000.125\n",
      "selecting best estimator: empirical\n"
     ]
    },
    {
     "name": "stderr",
     "output_type": "stream",
     "text": [
      "/usr/lib/python3.4/site-packages/ipykernel/__main__.py:2: RuntimeWarning: Epochs are not baseline corrected, covariance matrix may be inaccurate\n",
      "  from ipykernel import kernelapp as app\n"
     ]
    }
   ],
   "source": [
    "evoked = epochs.average()\n",
    "cov = mne.compute_covariance(epochs, tmax=0)  "
   ]
  },
  {
   "cell_type": "code",
   "execution_count": 32,
   "metadata": {
    "collapsed": false
   },
   "outputs": [
    {
     "ename": "AttributeError",
     "evalue": "'EpochsArray' object has no attribute 'filter'",
     "output_type": "error",
     "traceback": [
      "\u001b[1;31m---------------------------------------------------------------------------\u001b[0m",
      "\u001b[1;31mAttributeError\u001b[0m                            Traceback (most recent call last)",
      "\u001b[1;32m<ipython-input-32-6166d05b9c6d>\u001b[0m in \u001b[0;36m<module>\u001b[1;34m()\u001b[0m\n\u001b[1;32m----> 1\u001b[1;33m \u001b[0mepochs\u001b[0m\u001b[1;33m.\u001b[0m\u001b[0mfilter\u001b[0m\u001b[1;33m(\u001b[0m\u001b[0ml_freq\u001b[0m\u001b[1;33m=\u001b[0m\u001b[1;32mNone\u001b[0m\u001b[1;33m,\u001b[0m \u001b[0mh_freq\u001b[0m\u001b[1;33m=\u001b[0m\u001b[1;36m40.0\u001b[0m\u001b[1;33m)\u001b[0m\u001b[1;33m\u001b[0m\u001b[0m\n\u001b[0m",
      "\u001b[1;31mAttributeError\u001b[0m: 'EpochsArray' object has no attribute 'filter'"
     ]
    }
   ],
   "source": [
    "epochs.filter(l_freq=None, h_freq=40.0)  "
   ]
  },
  {
   "cell_type": "code",
   "execution_count": null,
   "metadata": {
    "collapsed": true
   },
   "outputs": [],
   "source": []
  }
 ],
 "metadata": {
  "kernelspec": {
   "display_name": "Python 3",
   "language": "python",
   "name": "python3"
  },
  "language_info": {
   "codemirror_mode": {
    "name": "ipython",
    "version": 3
   },
   "file_extension": ".py",
   "mimetype": "text/x-python",
   "name": "python",
   "nbconvert_exporter": "python",
   "pygments_lexer": "ipython3",
   "version": "3.4.2"
  }
 },
 "nbformat": 4,
 "nbformat_minor": 0
}
