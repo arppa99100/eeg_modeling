{
 "cells": [
  {
   "cell_type": "code",
   "execution_count": null,
   "metadata": {
    "collapsed": true
   },
   "outputs": [],
   "source": [
    "import os\n",
    "import sys\n",
    "import numpy as np\n",
    "from sklearn.metrics import accuracy_score\n",
    "\n",
    "sys.path.insert(0, \"/home/anonymous/Desktop/eeg_sampling/modeling\")\n",
    "from readbytes import _read8, _read32\n",
    "from datafilters import apply_dc_filter, apply_dwt_filter, apply_stfft_filter"
   ]
  },
  {
   "cell_type": "code",
   "execution_count": null,
   "metadata": {
    "collapsed": true
   },
   "outputs": [],
   "source": [
    "samplespath = \"./../samples\"\n",
    "predictingpath = \"./../predicting\"\n",
    "\n",
    "dt_i8 = np.dtype(\"<u1\")\n",
    "dt_i32 = np.dtype(\"<u4\")\n",
    "dt_f32 = np.dtype(\"<f4\")\n",
    "\n",
    "num_samples = 0\n",
    "num_channels = 8\n",
    "max_samples = 360\n",
    "max_presamples = 120"
   ]
  },
  {
   "cell_type": "code",
   "execution_count": null,
   "metadata": {
    "collapsed": false
   },
   "outputs": [],
   "source": [
    "samplefolder = sorted(os.listdir(samplespath))[-1]\n",
    "path = samplespath+\"/\"+samplefolder\n",
    "    \n",
    "#Get Inputs\n",
    "with open(path+\"/input\", \"rb\") as bytestream:\n",
    "    num_inputs = _read8(bytestream)\n",
    "    buf = bytestream.read(num_inputs * dt_i8.itemsize)\n",
    "    labels = np.frombuffer(buf, dtype=dt_i8)\n",
    "\n",
    "dataset = []\n",
    "predataset = []\n",
    "allsamples = sorted(os.listdir(path+\"/sample\"))\n",
    "for sample in allsamples:\n",
    "    with open(path+\"/sample/\"+sample, \"rb\") as bytestream:\n",
    "        #Check magic is 2049\n",
    "        magic = _read32(bytestream)\n",
    "        rows = _read32(bytestream)\n",
    "        cols = _read32(bytestream)\n",
    "        buf = bytestream.read(max_samples * cols * dt_f32.itemsize)\n",
    "        dataset.append(np.frombuffer(buf, dtype=dt_f32))\n",
    "    with open(path+\"/presample/\"+sample, \"rb\") as bytestream:\n",
    "        num_samples += 1\n",
    "        #Check magic is 2049\n",
    "        magic = _read32(bytestream)\n",
    "        rows = _read32(bytestream)\n",
    "        cols = _read32(bytestream)\n",
    "        buf = bytestream.read(max_presamples * cols * dt_f32.itemsize)\n",
    "        predataset.append(np.frombuffer(buf, dtype=dt_f32))\n",
    "\n",
    "dataset = np.array(dataset)\n",
    "predataset = np.array(predataset)\n",
    "dataset.shape = (num_samples, max_samples, num_channels)\n",
    "predataset.shape = (num_samples, max_presamples, num_channels)"
   ]
  },
  {
   "cell_type": "code",
   "execution_count": null,
   "metadata": {
    "collapsed": true
   },
   "outputs": [],
   "source": [
    "#Hyperparams\n",
    "\n",
    "#DC Filter\n",
    "enable_dc = True\n",
    "dc_lowcut = 1.0\n",
    "dc_highcut = 13.0\n",
    "dc_order = 2\n",
    "dc_type = \"bandpass\"\n",
    "dc_func_type = \"butter\"\n",
    "\n",
    "#DWT Filter\n",
    "enable_dwt = False\n",
    "dwt_type = \"db2\"\n",
    "dwt_level = 4\n",
    "dwt_thresh_func = \"soft\"\n",
    "dwt_thresh_type = \"rigrsure\"\n",
    "\n",
    "#STFT Filter\n",
    "enable_fft = False\n",
    "fft_window = 0.50\n",
    "fft_step = 0.25\n",
    "fft_thresh = 2.0\n",
    "fft_set_thresh = 0.0"
   ]
  },
  {
   "cell_type": "code",
   "execution_count": null,
   "metadata": {
    "collapsed": true
   },
   "outputs": [],
   "source": [
    "#Constants\n",
    "fs = 250.0 #Frequency in Hz\n",
    "sample_time = dataset.shape[1]/fs #Total time for sample\n",
    "presample_time = predataset.shape[1]/fs #Total time for sample\n",
    "\n",
    "#To get alpha and beta waves\n",
    "dataset.flags['WRITEABLE'] = True\n",
    "predataset.flags['WRITEABLE'] = True\n",
    "\n",
    "for i in range(0,dataset.shape[0]):\n",
    "    for j in range(0,dataset.shape[2]):\n",
    "        if enable_dc:\n",
    "            predataset[i,:,j] = apply_dc_filter(predataset[i,:,j], fs, dc_lowcut, dc_highcut, dc_order, dc_type, dc_func_type)\n",
    "            dataset[i,:,j] = apply_dc_filter(dataset[i,:,j], fs, dc_lowcut, dc_highcut, dc_order, dc_type, dc_func_type)\n",
    "        if enable_dwt:\n",
    "            predataset[i,:,j] = apply_dwt_filter(predataset[i,:,j], dwt_type, dwt_level, dwt_thresh_func, dwt_thresh_type)\n",
    "            dataset[i,:,j] = apply_dwt_filter(dataset[i,:,j], dwt_type, dwt_level, dwt_thresh_func, dwt_thresh_type)\n",
    "        if enable_fft:\n",
    "            predataset[i,:,j] = apply_stfft_filter(predataset[i,:,j], fs, presample_time, fft_window, fft_step, fft_thresh, fft_set_thresh)\n",
    "            dataset[i,:,j] = apply_stfft_filter(dataset[i,:,j], fs, sample_time, fft_window, fft_step, fft_thresh, fft_set_thresh)\n",
    "        #Normalize\n",
    "        dataset[i,:,j] = dataset[i,:,j]/np.linalg.norm(dataset[i,:,j])\n",
    "        #predataset[i,:,j] = predataset[i,:,j]/np.linalg.norm(predataset[i,:,j])\n",
    "        #np.mean(predataset[i,:,j])"
   ]
  },
  {
   "cell_type": "code",
   "execution_count": null,
   "metadata": {
    "collapsed": false
   },
   "outputs": [],
   "source": [
    "dataset.shape = (dataset.shape[0], num_channels * max_samples)"
   ]
  },
  {
   "cell_type": "code",
   "execution_count": null,
   "metadata": {
    "collapsed": true
   },
   "outputs": [],
   "source": [
    "import pickle\n",
    "from dataio import readdata, readlabels, writedata\n",
    "# load it again\n",
    "with open(predictingpath + '/eeg.model', 'rb') as readstream:\n",
    "    clf = pickle.load(readstream)"
   ]
  },
  {
   "cell_type": "code",
   "execution_count": null,
   "metadata": {
    "collapsed": false
   },
   "outputs": [],
   "source": [
    "clf_pred = clf.predict(dataset)\n",
    "print(clf_pred)\n",
    "print(labels)\n",
    "print(accuracy_score(labels, clf_pred))"
   ]
  },
  {
   "cell_type": "code",
   "execution_count": null,
   "metadata": {
    "collapsed": true
   },
   "outputs": [],
   "source": []
  }
 ],
 "metadata": {
  "kernelspec": {
   "display_name": "Python 3",
   "language": "python",
   "name": "python3"
  },
  "language_info": {
   "codemirror_mode": {
    "name": "ipython",
    "version": 3
   },
   "file_extension": ".py",
   "mimetype": "text/x-python",
   "name": "python",
   "nbconvert_exporter": "python",
   "pygments_lexer": "ipython3",
   "version": "3.4.2"
  }
 },
 "nbformat": 4,
 "nbformat_minor": 0
}
