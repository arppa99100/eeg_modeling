{
 "cells": [
  {
   "cell_type": "code",
   "execution_count": 1,
   "metadata": {
    "collapsed": true
   },
   "outputs": [],
   "source": [
    "import os\n",
    "import sys\n",
    "import numpy as np\n",
    "import copy\n",
    "import scipy\n",
    "sys.path.insert(0, \"/home/anonymous/Desktop/eeg_sampling/modeling\")\n",
    "from dataio import readdata2, readlabels2, writedata\n",
    "from datafilters import apply_dc_filter, apply_dwt_filter, apply_stfft_filter"
   ]
  },
  {
   "cell_type": "code",
   "execution_count": 2,
   "metadata": {
    "collapsed": true
   },
   "outputs": [],
   "source": [
    "#Hyperparams\n",
    "\n",
    "#DC Filter\n",
    "enable_dc = True\n",
    "dc_lowcut = 1.0\n",
    "dc_highcut = 13.0\n",
    "dc_order = 2\n",
    "dc_type = \"bandpass\"\n",
    "dc_func_type = \"butter\"\n",
    "\n",
    "#DWT Filter\n",
    "enable_dwt = False\n",
    "dwt_type = \"db2\"\n",
    "dwt_level = 4\n",
    "dwt_thresh_func = \"soft\"\n",
    "dwt_thresh_type = \"rigrsure\"\n",
    "\n",
    "#STFT Filter\n",
    "enable_fft = False\n",
    "fft_window = 0.50\n",
    "fft_step = 0.25\n",
    "fft_thresh = 2.0\n",
    "fft_set_thresh = 0.0"
   ]
  },
  {
   "cell_type": "code",
   "execution_count": 3,
   "metadata": {
    "collapsed": true
   },
   "outputs": [],
   "source": [
    "#predataset = readdata2(\"./../curated/raw-presamples\")\n",
    "dataset = readdata2(\"./../curated/raw-samples\")\n",
    "labels = readlabels2(\"./../curated/raw-inputs\")\n",
    "#Constants\n",
    "fs = 250.0 #Frequency in Hz\n",
    "sample_time = dataset[0].shape[1]/fs #Total time for sample\n",
    "#presample_time = predataset[0].shape[1]/fs #Total time for sample\n",
    "num_rows = 480 \n",
    "num_channels = 8"
   ]
  },
  {
   "cell_type": "code",
   "execution_count": 4,
   "metadata": {
    "collapsed": false
   },
   "outputs": [],
   "source": [
    "total_samples = 0\n",
    "for k in range(0, len(dataset)):\n",
    "    #predataset[k].flags['WRITEABLE'] = True\n",
    "    dataset[k].flags['WRITEABLE'] = True\n",
    "    total_samples += dataset[k].shape[0]\n",
    "    for i in range(0,dataset[k].shape[0]):\n",
    "        for j in range(0,dataset[k].shape[2]):\n",
    "            if enable_dc:\n",
    "                #predataset[k][i,:,j] = apply_dc_filter(predataset[k][i,:,j], fs, dc_lowcut, dc_highcut, dc_order, dc_type, dc_func_type)\n",
    "                dataset[k][i,:,j] = apply_dc_filter(dataset[k][i,:,j], fs, dc_lowcut, dc_highcut, dc_order, dc_type, dc_func_type)\n",
    "            if enable_dwt:\n",
    "                #predataset[k][i,:,j] = apply_dwt_filter(predataset[k][i,:,j], dwt_type, dwt_level, dwt_thresh_func, dwt_thresh_type)\n",
    "                dataset[k][i,:,j] = apply_dwt_filter(dataset[k][i,:,j], dwt_type, dwt_level, dwt_thresh_func, dwt_thresh_type)\n",
    "            if enable_fft:\n",
    "                #predataset[k][i,:,j] = apply_stfft_filter(predataset[k][i,:,j], fs, presample_time, fft_window, fft_step, fft_thresh, fft_set_thresh)\n",
    "                dataset[k][i,:,j] = apply_stfft_filter(dataset[k][i,:,j], fs, sample_time, fft_window, fft_step, fft_thresh, fft_set_thresh)\n",
    "            #Normalize\n",
    "            dataset[k][i,:,j] = dataset[k][i,:,j]/np.linalg.norm(dataset[k][i,:,j])\n",
    "            #predataset[k][i,:,j] = predataset[k][i,:,j]/np.linalg.norm(predataset[k][i,:,j])\n",
    "            #np.mean(predataset[k][i,:,j])"
   ]
  },
  {
   "cell_type": "code",
   "execution_count": 5,
   "metadata": {
    "collapsed": false
   },
   "outputs": [],
   "source": [
    "#test_idx = [16]\n",
    "test_idx = np.random.random_integers(0,len(dataset)-1,1)\n",
    "test_dataset = dataset.pop(test_idx[0])\n",
    "test_labels = labels.pop(test_idx[0])\n",
    "\n",
    "train_dataset = np.concatenate(dataset)\n",
    "train_dataset.shape = (total_samples - test_dataset.shape[0], num_rows, num_channels)\n",
    "train_labels = np.concatenate(labels)"
   ]
  },
  {
   "cell_type": "code",
   "execution_count": 8,
   "metadata": {
    "collapsed": false
   },
   "outputs": [],
   "source": [
    "#Write training\n",
    "writedata(\"./../curated/train_dataset\", train_dataset)\n",
    "writedata(\"./../curated/train_labels\", train_labels)\n",
    "#Write test\n",
    "writedata(\"./../curated/test_dataset\", test_dataset)\n",
    "writedata(\"./../curated/test_labels\", test_labels)"
   ]
  },
  {
   "cell_type": "code",
   "execution_count": null,
   "metadata": {
    "collapsed": true
   },
   "outputs": [],
   "source": [
    "import pywt\n",
    "\n",
    "def apply_dwt_filter(y, dwt_type, dwt_level, dwt_thresh_func, dwt_thresh_type):\n",
    "    coeffs = pywt.wavedecn(y, dwt_type, level=dwt_level)\n",
    "    for i in range(1, dwt_level+1):\n",
    "        coeffs[i][\"d\"] = pywt.threshold(coeffs[i][\"d\"], thselect(coeffs[i][\"d\"], dwt_thresh_type), dwt_thresh_func)\n",
    "    return(pywt.waverecn(coeffs, dwt_type))"
   ]
  },
  {
   "cell_type": "code",
   "execution_count": null,
   "metadata": {
    "collapsed": false
   },
   "outputs": [],
   "source": []
  },
  {
   "cell_type": "code",
   "execution_count": null,
   "metadata": {
    "collapsed": true
   },
   "outputs": [],
   "source": []
  }
 ],
 "metadata": {
  "kernelspec": {
   "display_name": "Python 3",
   "language": "python",
   "name": "python3"
  },
  "language_info": {
   "codemirror_mode": {
    "name": "ipython",
    "version": 3
   },
   "file_extension": ".py",
   "mimetype": "text/x-python",
   "name": "python",
   "nbconvert_exporter": "python",
   "pygments_lexer": "ipython3",
   "version": "3.4.2"
  }
 },
 "nbformat": 4,
 "nbformat_minor": 0
}
