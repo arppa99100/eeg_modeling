{
 "cells": [
  {
   "cell_type": "code",
   "execution_count": 1,
   "metadata": {
    "collapsed": true
   },
   "outputs": [],
   "source": [
    "import os\n",
    "import sys\n",
    "import numpy as np\n",
    "import copy\n",
    "import scipy\n",
    "import pywt\n",
    "\n",
    "from sklearn.preprocessing import normalize\n",
    "\n",
    "sys.path.insert(0, \"/home/anonymous/Desktop/eeg_sampling/modeling\")\n",
    "from dataio import readdata2, readlabels2, writedata\n",
    "from datafilters import apply_dc_filter"
   ]
  },
  {
   "cell_type": "code",
   "execution_count": 2,
   "metadata": {
    "collapsed": true
   },
   "outputs": [],
   "source": [
    "def apply_dwt_filter(y, dwt_type, dwt_level, dwt_thresh_func, dwt_thresh_type):\n",
    "    coeffs = pywt.wavedecn(y, dwt_type, level=dwt_level)\n",
    "    for i in range(1, dwt_level+1):\n",
    "        coeffs[i][\"d\"] = pywt.threshold(coeffs[i][\"d\"], thselect(coeffs[i][\"d\"], dwt_thresh_type), dwt_thresh_func)\n",
    "    return(pywt.waverecn(coeffs, dwt_type))"
   ]
  },
  {
   "cell_type": "code",
   "execution_count": 3,
   "metadata": {
    "collapsed": true
   },
   "outputs": [],
   "source": [
    "dataset = readdata2(\"./../curated/raw-samples\")\n",
    "labels = readlabels2(\"./../curated/raw-inputs\")\n",
    "\n",
    "#Constants\n",
    "fs = 250.0 #Frequency in Hz\n",
    "sample_time = dataset[0].shape[1]/fs #Total time for sample\n",
    "num_rows = 360 \n",
    "num_channels = 8\n",
    "rto = num_rows/(fs/2)"
   ]
  },
  {
   "cell_type": "code",
   "execution_count": 4,
   "metadata": {
    "collapsed": true
   },
   "outputs": [],
   "source": [
    "master_dataset = []\n",
    "\n",
    "# Channel 1 (For right hand movement)\n",
    "data = []\n",
    "for i in range(0, len(dataset)):\n",
    "    data.append(np.delete(dataset[i], [0,2,3,4,5,6,7], 2))\n",
    "    data[i].shape = (data[i].shape[0], data[i].shape[1])\n",
    "master_dataset.append(data)\n",
    "\n",
    "# Channel 3 (For left hand movement)\n",
    "data = []\n",
    "for i in range(0, len(dataset)):\n",
    "    data.append(np.delete(dataset[i], [0,1,2,4,5,6,7], 2))\n",
    "    data[i].shape = (data[i].shape[0], data[i].shape[1])\n",
    "master_dataset.append(data)\n",
    "  \n",
    "# Grand Average\n",
    "data = []\n",
    "for i in range(0,len(dataset)):\n",
    "    data.append(np.mean(dataset[i],axis=2))\n",
    "master_dataset.append(data)"
   ]
  },
  {
   "cell_type": "code",
   "execution_count": 5,
   "metadata": {
    "collapsed": true
   },
   "outputs": [],
   "source": [
    "#First filter\n",
    "dc_lowcut = 1.0\n",
    "dc_highcut = 13.0\n",
    "dc_order = 2\n",
    "dc_type = \"bandpass\"\n",
    "dc_func_type = \"butter\"\n",
    "for i in range(0, len(master_dataset)):\n",
    "    for j in range(0, len(master_dataset[i])):\n",
    "        for k in range(0, master_dataset[i][j].shape[0]):\n",
    "            master_dataset[i][j][k] = apply_dc_filter(master_dataset[i][j][k], fs, dc_lowcut, dc_highcut, dc_order, dc_type, dc_func_type)"
   ]
  },
  {
   "cell_type": "code",
   "execution_count": 6,
   "metadata": {
    "collapsed": true
   },
   "outputs": [],
   "source": [
    "def data_summary(x):\n",
    "    return(x.max(), x.min(), x.mean(), x.std(), x.var())"
   ]
  },
  {
   "cell_type": "code",
   "execution_count": 7,
   "metadata": {
    "collapsed": false
   },
   "outputs": [],
   "source": [
    "#Discrete Wavelet Transform\n",
    "dwt_type = \"db2\"\n",
    "dwt_level = 4\n",
    "dwt_thresh_func = \"soft\"\n",
    "dwt_thresh_type = \"rigrsure\"\n",
    "\n",
    "master_dwt = []\n",
    "for i in range(0, len(master_dataset)):\n",
    "    trial = []\n",
    "    for j in range(0, len(master_dataset[i])):\n",
    "        sample = []\n",
    "        for k in range(0, master_dataset[i][j].shape[0]):\n",
    "            dwt_tmp = pywt.wavedecn(master_dataset[i][j][k], dwt_type, level=dwt_level) #Compute DWT\\\n",
    "            summ = []\n",
    "            summ.append(data_summary(dwt_tmp[0]))\n",
    "            for m in range(1, dwt_level+1):\n",
    "                summ.append(data_summary(dwt_tmp[m][\"d\"]))\n",
    "            summ = np.array(summ)\n",
    "            sample.append(summ.flatten())\n",
    "            #sample.append(dwt_tmp[4][\"d\"])\n",
    "        trial.append(sample)\n",
    "    master_dwt.append(trial)"
   ]
  },
  {
   "cell_type": "code",
   "execution_count": null,
   "metadata": {
    "collapsed": false
   },
   "outputs": [],
   "source": [
    "len(master_dwt[0][0])"
   ]
  },
  {
   "cell_type": "code",
   "execution_count": 8,
   "metadata": {
    "collapsed": false
   },
   "outputs": [],
   "source": [
    "# Test Set\n",
    "test_index = 15 #Last one\n",
    "test_dataset = []\n",
    "train_dataset = []\n",
    "for i in range(0, len(master_dwt)):\n",
    "    test_dataset.append(master_dwt[i][test_index])\n",
    "    master_dwt[i] = np.delete(master_dwt[i], test_index, axis = 0)\n",
    "    train_dataset.append(master_dwt[i])\n",
    "    \n",
    "test_labels = labels[test_index]\n",
    "labels = np.delete(labels, test_index, axis = 0)\n",
    "train_labels = labels\n",
    "\n",
    "\n",
    "# Train Set\n",
    "for i in range(0, len(train_dataset)):\n",
    "    train_dataset[i] = np.concatenate(train_dataset[i])\n",
    "\n",
    "train_labels = np.concatenate(labels)"
   ]
  },
  {
   "cell_type": "code",
   "execution_count": null,
   "metadata": {
    "collapsed": false
   },
   "outputs": [],
   "source": []
  },
  {
   "cell_type": "code",
   "execution_count": 9,
   "metadata": {
    "collapsed": false
   },
   "outputs": [],
   "source": [
    "train_right = train_dataset[0].astype(np.float32)\n",
    "train_left = train_dataset[1].astype(np.float32)\n",
    "train_avg = train_dataset[2].astype(np.float32)\n",
    "train_right.shape = (train_right.shape[0],train_right.shape[1],1)\n",
    "train_left.shape = (train_left.shape[0],train_left.shape[1],1)\n",
    "train_avg.shape = (train_avg.shape[0],train_avg.shape[1],1)\n",
    "\n",
    "test_right = np.array(test_dataset[0], dtype=np.float32)\n",
    "test_left = np.array(test_dataset[1], dtype=np.float32)\n",
    "test_avg = np.array(test_dataset[2], dtype=np.float32)\n",
    "test_right.shape = (test_right.shape[0],test_right.shape[1],1)\n",
    "test_left.shape = (test_left.shape[0],test_left.shape[1],1)\n",
    "test_avg.shape = (test_avg.shape[0],test_avg.shape[1],1)\n",
    "\n",
    "\n",
    "#Write training\n",
    "writedata(\"./../curated/train_dataset_right\", train_right)\n",
    "writedata(\"./../curated/train_dataset_left\", train_left)\n",
    "writedata(\"./../curated/train_dataset_avg\", train_avg)\n",
    "writedata(\"./../curated/train_labels\", train_labels.astype(np.uint8))\n",
    "\n",
    "#Write test\n",
    "writedata(\"./../curated/test_dataset_right\", test_right)\n",
    "writedata(\"./../curated/test_dataset_left\", test_left)\n",
    "writedata(\"./../curated/test_dataset_avg\", test_avg)\n",
    "writedata(\"./../curated/test_labels\", test_labels.astype(np.int8))"
   ]
  },
  {
   "cell_type": "code",
   "execution_count": null,
   "metadata": {
    "collapsed": false
   },
   "outputs": [],
   "source": [
    "train_dataset[0].shape"
   ]
  },
  {
   "cell_type": "code",
   "execution_count": null,
   "metadata": {
    "collapsed": true
   },
   "outputs": [],
   "source": []
  }
 ],
 "metadata": {
  "kernelspec": {
   "display_name": "Python 3",
   "language": "python",
   "name": "python3"
  },
  "language_info": {
   "codemirror_mode": {
    "name": "ipython",
    "version": 3
   },
   "file_extension": ".py",
   "mimetype": "text/x-python",
   "name": "python",
   "nbconvert_exporter": "python",
   "pygments_lexer": "ipython3",
   "version": "3.4.2"
  }
 },
 "nbformat": 4,
 "nbformat_minor": 0
}
